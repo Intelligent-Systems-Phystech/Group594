{
 "cells": [
  {
   "cell_type": "markdown",
   "metadata": {},
   "source": [
    "### Считываем данные (refined dataset)"
   ]
  },
  {
   "cell_type": "code",
   "execution_count": 20,
   "metadata": {
    "collapsed": false
   },
   "outputs": [],
   "source": [
    "import array, struct, sys, os, tqdm\n",
    "import numpy as np\n",
    "\n",
    "def read_binaries(path_binfiles):\n",
    "    result = {}\n",
    "    cnt = 0\n",
    "    for binfile in tqdm.tqdm(os.listdir(path_binfiles)):\n",
    "        pdbcode = binfile.split('.')[0]                     # name of file (pdbcode)\n",
    "        F = open('{0}/{1}'.format(path_binfiles, binfile), 'rb')\n",
    "        n_decoys = struct.unpack('i', F.read(4))[0]         # number of decoys (=19 for this dataset)\n",
    "        dimension = struct.unpack('i', F.read(4))[0]        # data dimensionality (23 protein types x 40 ligand types x 7 bins for this dataset)\n",
    "        res = []\n",
    "        for i in range(n_decoys):\n",
    "            label = struct.unpack('d', F.read(8))[0]        # label (1 for native, -1 for non-native)\n",
    "            data = array.array('d')                         \n",
    "            data.fromfile(F, dimension)                     # feature vector (histograms, can be represented as a 23x40x7 matrix) \n",
    "            res.append([label, data])\n",
    "        result[pdbcode] = res\n",
    "        F.close()\n",
    "        if cnt == 13080:\n",
    "            break\n",
    "        cnt += 1\n",
    "    return result"
   ]
  },
  {
   "cell_type": "code",
   "execution_count": 21,
   "metadata": {
    "collapsed": false
   },
   "outputs": [
    {
     "name": "stderr",
     "output_type": "stream",
     "text": [
      "100%|█████████▉| 13080/13089 [02:09<00:00, 100.94it/s]"
     ]
    }
   ],
   "source": [
    "result = read_binaries('general-no2013_t14_t3_l7.0_g1.0_r1.0')"
   ]
  },
  {
   "cell_type": "code",
   "execution_count": 22,
   "metadata": {
    "collapsed": false
   },
   "outputs": [],
   "source": [
    "with open('affinity_data_refined.csv', 'r') as f:\n",
    "    data = f.read().split('\\n')\n",
    "    data = data[1:-1]"
   ]
  },
  {
   "cell_type": "code",
   "execution_count": 23,
   "metadata": {
    "collapsed": false
   },
   "outputs": [],
   "source": [
    "datasets = [\n",
    "    {'name': d.split(',')[0], 'value': d.split(',')[1], 'type': d.split(',')[3]}\n",
    "    for d in data\n",
    "]"
   ]
  },
  {
   "cell_type": "code",
   "execution_count": 24,
   "metadata": {
    "collapsed": false
   },
   "outputs": [],
   "source": [
    "Kd_values = []\n",
    "Ki_values = []\n",
    "for d in datasets:\n",
    "    if d['type'] == 'Kd':\n",
    "        Kd_values.append(d)\n",
    "    else:\n",
    "        Ki_values.append(d)"
   ]
  },
  {
   "cell_type": "code",
   "execution_count": 25,
   "metadata": {
    "collapsed": false
   },
   "outputs": [],
   "source": [
    "Kd_data = []\n",
    "for item in Kd_values:\n",
    "    Kd_data.append([item['value']] + result[item['name']][0])"
   ]
  },
  {
   "cell_type": "code",
   "execution_count": 26,
   "metadata": {
    "collapsed": false
   },
   "outputs": [],
   "source": [
    "Ki_data = []\n",
    "for item in Ki_values:\n",
    "    if item['name'] != '966c':\n",
    "        Ki_data.append([item['value']] + result[item['name']][0])"
   ]
  },
  {
   "cell_type": "markdown",
   "metadata": {},
   "source": [
    "### 1 этап. Предсказание свободной энергии.\n",
    "Для обучения рассматриваем для каждого комплекса только его нативную позу (т.к. только для них известны значения свободной энергии).\n",
    "\n",
    "Берем все нативные позы со значениями Kd (Kd_data) из refined dataset.\n",
    "\n",
    "Предсказываем значение Kd."
   ]
  },
  {
   "cell_type": "code",
   "execution_count": 27,
   "metadata": {
    "collapsed": true
   },
   "outputs": [],
   "source": [
    "import numpy as np\n",
    "from math import log, exp\n",
    "from scipy.linalg import sqrtm, inv, norm\n",
    "from scipy.optimize import minimize"
   ]
  },
  {
   "cell_type": "code",
   "execution_count": 29,
   "metadata": {
    "collapsed": false
   },
   "outputs": [],
   "source": [
    "data = Kd_data\n",
    "train = data[:int(len(data) * 0.6)]\n",
    "test = data[int(len(data) * 0.6):]\n",
    "\n",
    "# Матрица признаков\n",
    "X = np.matrix([\n",
    "    t[2]\n",
    "    for t in train\n",
    "]).T\n",
    "\n",
    "# Столбец значений свободной энергии\n",
    "s = np.matrix([\n",
    "    float(t[0])\n",
    "    for t in train\n",
    "]).T"
   ]
  },
  {
   "cell_type": "code",
   "execution_count": 31,
   "metadata": {
    "collapsed": false
   },
   "outputs": [
    {
     "data": {
      "text/plain": [
       "(1074, 1)"
      ]
     },
     "execution_count": 31,
     "metadata": {},
     "output_type": "execute_result"
    }
   ],
   "source": [
    "print(X.shape)\n",
    "print(s.shape)"
   ]
  },
  {
   "cell_type": "code",
   "execution_count": 35,
   "metadata": {
    "collapsed": false
   },
   "outputs": [
    {
     "data": {
      "text/plain": [
       "(6440, 6440)"
      ]
     },
     "execution_count": 35,
     "metadata": {},
     "output_type": "execute_result"
    }
   ],
   "source": [
    "# Замена переменных\n",
    "\n",
    "Cr = 0.5 # Коэффициент регуляризации\n",
    "I = np.identity(XXT.shape[0])\n",
    "A = np.real(sqrtm(0.5 * I + Cr * (X @ X.T)))\n",
    "A_inv = inv(A)\n",
    "B = Cr * Ainv @ X @ s"
   ]
  },
  {
   "cell_type": "code",
   "execution_count": null,
   "metadata": {
    "collapsed": true
   },
   "outputs": [],
   "source": [
    "print(A.shape)\n",
    "print(B.shape)"
   ]
  },
  {
   "cell_type": "code",
   "execution_count": 83,
   "metadata": {
    "collapsed": true
   },
   "outputs": [],
   "source": [
    "# Целевая функция: ее минимизируем\n",
    "def objective_function(w, A_inv, B, X):\n",
    "    y = np.ones(X.shape[1]) # Нативные позы\n",
    "    C = np.ones(X.shape[1]) # Коэффициенты регуляризации (пока положим их равными 1)\n",
    "    w = np.matrix(w).T\n",
    "    arg = (Ainv @ (w + B)).T\n",
    "    logs = [\n",
    "        C[i] * log(1 + exp(-y[i] * arg @ X[:,i]))\n",
    "        for i in range(X.shape[1])\n",
    "    ]\n",
    "    return norm(w) + np.sum(logs)"
   ]
  },
  {
   "cell_type": "code",
   "execution_count": null,
   "metadata": {
    "collapsed": false
   },
   "outputs": [],
   "source": [
    "# Минимизируем целевую функцию\n",
    "\n",
    "w0 = np.ones(6440) # Априорные значения (единицы)\n",
    "res = minimize(objective_function, w0, (A_inv, B, X))"
   ]
  },
  {
   "cell_type": "code",
   "execution_count": null,
   "metadata": {
    "collapsed": true
   },
   "outputs": [],
   "source": []
  }
 ],
 "metadata": {
  "anaconda-cloud": {},
  "kernelspec": {
   "display_name": "Python [Root]",
   "language": "python",
   "name": "Python [Root]"
  },
  "language_info": {
   "codemirror_mode": {
    "name": "ipython",
    "version": 3
   },
   "file_extension": ".py",
   "mimetype": "text/x-python",
   "name": "python",
   "nbconvert_exporter": "python",
   "pygments_lexer": "ipython3",
   "version": "3.5.2"
  }
 },
 "nbformat": 4,
 "nbformat_minor": 0
}
