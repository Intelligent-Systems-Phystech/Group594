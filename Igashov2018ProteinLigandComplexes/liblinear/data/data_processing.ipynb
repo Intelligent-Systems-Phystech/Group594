{
 "cells": [
  {
   "cell_type": "markdown",
   "metadata": {},
   "source": [
    "### Считываем данные (refined dataset)"
   ]
  },
  {
   "cell_type": "code",
   "execution_count": 1,
   "metadata": {
    "collapsed": true
   },
   "outputs": [],
   "source": [
    "import array, struct, sys, os, tqdm\n",
    "import numpy as np\n",
    "\n",
    "def read_binaries(path_binfiles):\n",
    "    result = {}\n",
    "    cnt = 0\n",
    "    for binfile in tqdm.tqdm(os.listdir(path_binfiles)):\n",
    "        pdbcode = binfile.split('.')[0]                     # name of file (pdbcode)\n",
    "        F = open('{0}/{1}'.format(path_binfiles, binfile), 'rb')\n",
    "        n_decoys = struct.unpack('i', F.read(4))[0]         # number of decoys (=19 for this dataset)\n",
    "        dimension = struct.unpack('i', F.read(4))[0]        # data dimensionality (23 protein types x 40 ligand types x 7 bins for this dataset)\n",
    "        res = []\n",
    "        for i in range(n_decoys):\n",
    "            label = struct.unpack('d', F.read(8))[0]        # label (1 for native, -1 for non-native)\n",
    "            data = array.array('d')                         \n",
    "            data.fromfile(F, dimension)                     # feature vector (histograms, can be represented as a 23x40x7 matrix) \n",
    "            res.append([label, data])\n",
    "        result[pdbcode] = res\n",
    "        F.close()\n",
    "        if cnt == 13080:\n",
    "            break\n",
    "        cnt += 1\n",
    "    return result"
   ]
  },
  {
   "cell_type": "code",
   "execution_count": 2,
   "metadata": {
    "collapsed": false
   },
   "outputs": [
    {
     "name": "stderr",
     "output_type": "stream",
     "text": [
      "100%|█████████▉| 13071/13089 [01:54<00:00, 114.14it/s]"
     ]
    }
   ],
   "source": [
    "result = read_binaries('../../../basic_experiment/general-no2013_t14_t3_l7.0_g1.0_r1.0')"
   ]
  },
  {
   "cell_type": "code",
   "execution_count": 3,
   "metadata": {
    "collapsed": false
   },
   "outputs": [],
   "source": [
    "with open('../../../basic_experiment/affinity_data_refined.csv', 'r') as f:\n",
    "    data = f.read().split('\\n')\n",
    "    data = data[1:-1]"
   ]
  },
  {
   "cell_type": "code",
   "execution_count": 4,
   "metadata": {
    "collapsed": true
   },
   "outputs": [],
   "source": [
    "datasets = [\n",
    "    {'name': d.split(',')[0], 'value': d.split(',')[1], 'type': d.split(',')[3]}\n",
    "    for d in data\n",
    "]"
   ]
  },
  {
   "cell_type": "code",
   "execution_count": 5,
   "metadata": {
    "collapsed": true
   },
   "outputs": [],
   "source": [
    "Kd_values = []\n",
    "Ki_values = []\n",
    "for d in datasets:\n",
    "    if d['type'] == 'Kd':\n",
    "        Kd_values.append(d)\n",
    "    else:\n",
    "        Ki_values.append(d)"
   ]
  },
  {
   "cell_type": "code",
   "execution_count": 6,
   "metadata": {
    "collapsed": true
   },
   "outputs": [],
   "source": [
    "Kd_data = []\n",
    "for item in Kd_values:\n",
    "    Kd_data.append([item['value']] + result[item['name']])"
   ]
  },
  {
   "cell_type": "code",
   "execution_count": 7,
   "metadata": {
    "collapsed": false
   },
   "outputs": [
    {
     "name": "stderr",
     "output_type": "stream",
     "text": [
      "\r",
      "100%|█████████▉| 13071/13089 [02:10<00:00, 100.44it/s]"
     ]
    }
   ],
   "source": [
    "Ki_data = []\n",
    "for item in Ki_values:\n",
    "    if item['name'] != '966c':\n",
    "        Ki_data.append([item['value']] + result[item['name']])"
   ]
  },
  {
   "cell_type": "markdown",
   "metadata": {},
   "source": [
    "### 1 этап. Предсказание свободной энергии.\n",
    "Для обучения рассматриваем для каждого комплекса только его нативную позу (т.к. только для них известны значения свободной энергии).\n",
    "\n",
    "Берем все нативные позы со значениями Ki (Ki_data) из refined dataset.\n",
    "\n",
    "Предсказываем значение Ki."
   ]
  },
  {
   "cell_type": "markdown",
   "metadata": {},
   "source": [
    "### Работа с данными:\n",
    "\n",
    "    1) Разделение данных на test и train и выделение аффинных данных (X_nat_train)\n",
    "    \n",
    "    2) Замена переменных\n",
    "    \n",
    "    3) Запись в файл нового вектора X (для работы в liblinear)"
   ]
  },
  {
   "cell_type": "code",
   "execution_count": 8,
   "metadata": {
    "collapsed": false
   },
   "outputs": [],
   "source": [
    "import time\n",
    "import numpy as np\n",
    "from math import log, exp\n",
    "from scipy.linalg import sqrtm, inv, norm\n",
    "from scipy.optimize import minimize"
   ]
  },
  {
   "cell_type": "code",
   "execution_count": 9,
   "metadata": {
    "collapsed": false
   },
   "outputs": [
    {
     "name": "stdout",
     "output_type": "stream",
     "text": [
      "--- 1.8571479320526123 seconds ---\n"
     ]
    }
   ],
   "source": [
    "start_time = time.time()\n",
    "data = Ki_data\n",
    "train = data[:int(len(data) * 0.6)]\n",
    "test = data[int(len(data) * 0.6):]\n",
    "\n",
    "# Матрица признаков (для которых аффинности известны)\n",
    "X_nat_train = np.matrix([\n",
    "    t[1][1]\n",
    "    for t in train\n",
    "]).T\n",
    "\n",
    "# Столбец значений свободной энергии\n",
    "s_train = np.matrix([\n",
    "    float(t[0])\n",
    "    for t in train\n",
    "]).T\n",
    "print(\"--- %s seconds ---\" % (time.time() - start_time))"
   ]
  },
  {
   "cell_type": "code",
   "execution_count": 10,
   "metadata": {
    "collapsed": false
   },
   "outputs": [
    {
     "name": "stdout",
     "output_type": "stream",
     "text": [
      "(6440, 1245)\n",
      "(1245, 1)\n"
     ]
    }
   ],
   "source": [
    "print(X_nat_train.shape)\n",
    "print(s_train.shape)"
   ]
  },
  {
   "cell_type": "code",
   "execution_count": 11,
   "metadata": {
    "collapsed": false
   },
   "outputs": [
    {
     "name": "stdout",
     "output_type": "stream",
     "text": [
      "--- 19.431813955307007 seconds ---\n"
     ]
    }
   ],
   "source": [
    "start_time = time.time()\n",
    "X_train = []\n",
    "for t in train:\n",
    "    for pose in t[1:]:\n",
    "        X_train.append(pose[1])\n",
    "        \n",
    "X_train = np.matrix(X_train).T\n",
    "\n",
    "y_train = []\n",
    "for t in train:\n",
    "    for pose in t[1:]:\n",
    "        y_train.append(pose[0])\n",
    "\n",
    "y_train = np.matrix(y_train).T\n",
    "print(\"--- %s seconds ---\" % (time.time() - start_time))"
   ]
  },
  {
   "cell_type": "code",
   "execution_count": 12,
   "metadata": {
    "collapsed": false
   },
   "outputs": [
    {
     "name": "stdout",
     "output_type": "stream",
     "text": [
      "(6440, 23655)\n",
      "(23655, 1)\n"
     ]
    }
   ],
   "source": [
    "print(X_train.shape)\n",
    "print(y_train.shape)"
   ]
  },
  {
   "cell_type": "code",
   "execution_count": 13,
   "metadata": {
    "collapsed": false
   },
   "outputs": [
    {
     "name": "stdout",
     "output_type": "stream",
     "text": [
      "--- 221.5532648563385 seconds ---\n"
     ]
    }
   ],
   "source": [
    "# Замена переменных\n",
    "start_time = time.time()\n",
    "Cr = 100 # Коэффициент регуляризации\n",
    "XXT = X_nat_train @ X_nat_train.T\n",
    "I = np.identity(XXT.shape[0])\n",
    "A = np.real(sqrtm(0.5 * I + Cr * XXT))\n",
    "print(\"--- %s seconds ---\" % (time.time() - start_time))"
   ]
  },
  {
   "cell_type": "code",
   "execution_count": 15,
   "metadata": {
    "collapsed": false
   },
   "outputs": [
    {
     "name": "stdout",
     "output_type": "stream",
     "text": [
      "--- 14.857600927352905 seconds ---\n"
     ]
    }
   ],
   "source": [
    "start_time = time.time()\n",
    "A_inv = inv(A)\n",
    "B = Cr * A_inv @ X_nat_train @ s_train\n",
    "print(\"--- %s seconds ---\" % (time.time() - start_time))"
   ]
  },
  {
   "cell_type": "code",
   "execution_count": 16,
   "metadata": {
    "collapsed": false
   },
   "outputs": [
    {
     "name": "stdout",
     "output_type": "stream",
     "text": [
      "(6440, 6440)\n",
      "(6440, 1)\n"
     ]
    }
   ],
   "source": [
    "print(A.shape)\n",
    "print(B.shape)"
   ]
  },
  {
   "cell_type": "code",
   "execution_count": 17,
   "metadata": {
    "collapsed": false
   },
   "outputs": [
    {
     "name": "stdout",
     "output_type": "stream",
     "text": [
      "(23655, 6440)\n"
     ]
    }
   ],
   "source": [
    "newX = (A_inv.T @ X_train).T\n",
    "print(newX.shape)"
   ]
  },
  {
   "cell_type": "code",
   "execution_count": 20,
   "metadata": {
    "collapsed": false
   },
   "outputs": [
    {
     "name": "stderr",
     "output_type": "stream",
     "text": [
      "100%|██████████| 23655/23655 [11:53<00:00, 33.15it/s]\n"
     ]
    }
   ],
   "source": [
    "with open(\"ki_train\", \"w\") as f:\n",
    "    for i in tqdm.tqdm(range(newX.shape[0])):\n",
    "        y_i = (\"+1 \" if y_train[i] == 1 else \"-1 \")\n",
    "        f.write(y_i)\n",
    "        for j in range(newX.shape[1]):\n",
    "            f.write(str(j + 1) + \":\" + str(newX[i,j]) + \" \")\n",
    "        f.write(\"\\n\")"
   ]
  },
  {
   "cell_type": "markdown",
   "metadata": {},
   "source": [
    "### Строим модель в liblinear, достаем вектор $w$ из файла .model и тестируем модель."
   ]
  },
  {
   "cell_type": "code",
   "execution_count": 21,
   "metadata": {
    "collapsed": true
   },
   "outputs": [],
   "source": [
    "from scipy.stats import spearmanr, pearsonr\n",
    "from sklearn.metrics import r2_score\n",
    "from sklearn.metrics import mean_squared_error"
   ]
  },
  {
   "cell_type": "code",
   "execution_count": 22,
   "metadata": {
    "collapsed": true
   },
   "outputs": [],
   "source": [
    "with open(\"../ki_train.model\", \"r\") as f:\n",
    "    data = f.read().split(\"\\n\")"
   ]
  },
  {
   "cell_type": "code",
   "execution_count": 23,
   "metadata": {
    "collapsed": true
   },
   "outputs": [],
   "source": [
    "newW = np.array(data[6:-1], dtype=float).reshape((6440, 1))"
   ]
  },
  {
   "cell_type": "code",
   "execution_count": 24,
   "metadata": {
    "collapsed": true
   },
   "outputs": [],
   "source": [
    "w = A_inv @ (newW + B)"
   ]
  },
  {
   "cell_type": "code",
   "execution_count": 25,
   "metadata": {
    "collapsed": true
   },
   "outputs": [],
   "source": [
    "# Матрица признаков (для которых аффинности известны)\n",
    "X_test = np.matrix([\n",
    "    t[1][1]\n",
    "    for t in test\n",
    "]).T\n",
    "\n",
    "# Столбец значений свободной энергии\n",
    "s_test = np.matrix([\n",
    "    float(t[0])\n",
    "    for t in test\n",
    "]).T"
   ]
  },
  {
   "cell_type": "code",
   "execution_count": 26,
   "metadata": {
    "collapsed": false
   },
   "outputs": [
    {
     "name": "stdout",
     "output_type": "stream",
     "text": [
      "SpearmanrResult(correlation=0.68356234628229917, pvalue=1.7725783590839373e-115)\n",
      "(0.67049209677989263, 1.3800783330340288e-109)\n",
      "-0.146462513968\n",
      "5.14020695231\n"
     ]
    }
   ],
   "source": [
    "# Тренинговая аффинная выборка и Cr = 100 (вместо 10000), C = 1024\n",
    "prediction = w.T @ X_test\n",
    "print(spearmanr(np.array(s_test.T)[0], np.array(prediction)[0]))\n",
    "print(pearsonr(np.array(s_test.T)[0], np.array(prediction)[0]))\n",
    "print(r2_score(np.array(s_test.T)[0], np.array(prediction)[0]))\n",
    "print(mean_squared_error(np.array(s_test.T)[0], np.array(prediction)[0]))"
   ]
  },
  {
   "cell_type": "code",
   "execution_count": 23,
   "metadata": {
    "collapsed": false
   },
   "outputs": [
    {
     "name": "stdout",
     "output_type": "stream",
     "text": [
      "SpearmanrResult(correlation=0.62014223685389513, pvalue=2.6774230060625381e-133)\n",
      "(0.60320970317061684, 2.4116978508802566e-124)\n",
      "-0.209361431428\n",
      "5.41602792232\n"
     ]
    }
   ],
   "source": [
    "# Тренинговая аффинная выборка и Cr = 10000 (вместо 100), C = 1024\n",
    "prediction = w.T @ X_test_reg\n",
    "print(spearmanr(np.array(s_test.T)[0], np.array(prediction)[0]))\n",
    "print(pearsonr(np.array(s_test.T)[0], np.array(prediction)[0]))\n",
    "print(r2_score(np.array(s_test.T)[0], np.array(prediction)[0]))\n",
    "print(mean_squared_error(np.array(s_test.T)[0], np.array(prediction)[0]))"
   ]
  },
  {
   "cell_type": "code",
   "execution_count": 76,
   "metadata": {
    "collapsed": false
   },
   "outputs": [
    {
     "name": "stdout",
     "output_type": "stream",
     "text": [
      "SpearmanrResult(correlation=0.78110546631570565, pvalue=1.0389205936255559e-256)\n",
      "(0.77570934211099696, 6.0031501273757858e-251)\n",
      "0.327181243734\n",
      "3.01316469659\n"
     ]
    }
   ],
   "source": [
    "# Добавил полную аффинную выборку и Cr = 100 (вместо 10), C = 1024\n",
    "prediction = w.T @ X_test_reg\n",
    "print(spearmanr(np.array(s_test.T)[0], np.array(prediction)[0]))\n",
    "print(pearsonr(np.array(s_test.T)[0], np.array(prediction)[0]))\n",
    "print(r2_score(np.array(s_test.T)[0], np.array(prediction)[0]))\n",
    "print(mean_squared_error(np.array(s_test.T)[0], np.array(prediction)[0]))"
   ]
  },
  {
   "cell_type": "code",
   "execution_count": 65,
   "metadata": {
    "collapsed": false
   },
   "outputs": [
    {
     "name": "stdout",
     "output_type": "stream",
     "text": [
      "SpearmanrResult(correlation=0.68905982191288717, pvalue=3.597549765965038e-176)\n",
      "(0.67739176428319892, 4.3851607724117059e-168)\n",
      "-0.233452411741\n",
      "5.52391744043\n"
     ]
    }
   ],
   "source": [
    "# Добавил полную аффинную выборку и Cr = 5 (вместо 0.5), C = 1024\n",
    "prediction = w.T @ X_test_reg\n",
    "print(spearmanr(np.array(s_test.T)[0], np.array(prediction)[0]))\n",
    "print(pearsonr(np.array(s_test.T)[0], np.array(prediction)[0]))\n",
    "print(r2_score(np.array(s_test.T)[0], np.array(prediction)[0]))\n",
    "print(mean_squared_error(np.array(s_test.T)[0], np.array(prediction)[0]))"
   ]
  },
  {
   "cell_type": "code",
   "execution_count": 47,
   "metadata": {
    "collapsed": false
   },
   "outputs": [
    {
     "name": "stdout",
     "output_type": "stream",
     "text": [
      "SpearmanrResult(correlation=0.59782292604876919, pvalue=1.3171390817460266e-121)\n",
      "(0.5853307218911773, 1.8685088214099835e-115)\n",
      "-1.06153063991\n",
      "9.23239919705\n"
     ]
    }
   ],
   "source": [
    "# Аффинная выборка только из тренинговой выборки, Cr = 0.5, C = 1024\n",
    "prediction = w.T @ X_test_reg\n",
    "print(spearmanr(np.array(s_test.T)[0], np.array(prediction)[0]))\n",
    "print(pearsonr(np.array(s_test.T)[0], np.array(prediction)[0]))\n",
    "print(r2_score(np.array(s_test.T)[0], np.array(prediction)[0]))\n",
    "print(mean_squared_error(np.array(s_test.T)[0], np.array(prediction)[0]))"
   ]
  }
 ],
 "metadata": {
  "anaconda-cloud": {},
  "kernelspec": {
   "display_name": "Python [Root]",
   "language": "python",
   "name": "Python [Root]"
  },
  "language_info": {
   "codemirror_mode": {
    "name": "ipython",
    "version": 3
   },
   "file_extension": ".py",
   "mimetype": "text/x-python",
   "name": "python",
   "nbconvert_exporter": "python",
   "pygments_lexer": "ipython3",
   "version": "3.5.2"
  }
 },
 "nbformat": 4,
 "nbformat_minor": 0
}
