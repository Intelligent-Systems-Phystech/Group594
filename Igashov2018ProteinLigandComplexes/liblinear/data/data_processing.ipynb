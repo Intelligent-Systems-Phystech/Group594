{
 "cells": [
  {
   "cell_type": "markdown",
   "metadata": {},
   "source": [
    "### Считываем данные (refined dataset)"
   ]
  },
  {
   "cell_type": "code",
   "execution_count": 1,
   "metadata": {
    "collapsed": true
   },
   "outputs": [],
   "source": [
    "import array, struct, sys, os, tqdm\n",
    "import numpy as np\n",
    "\n",
    "def read_binaries(path_binfiles):\n",
    "    result = {}\n",
    "    cnt = 0\n",
    "    for binfile in tqdm.tqdm(os.listdir(path_binfiles)):\n",
    "        pdbcode = binfile.split('.')[0]                     # name of file (pdbcode)\n",
    "        F = open('{0}/{1}'.format(path_binfiles, binfile), 'rb')\n",
    "        n_decoys = struct.unpack('i', F.read(4))[0]         # number of decoys (=19 for this dataset)\n",
    "        dimension = struct.unpack('i', F.read(4))[0]        # data dimensionality (23 protein types x 40 ligand types x 7 bins for this dataset)\n",
    "        res = []\n",
    "        for i in range(n_decoys):\n",
    "            label = struct.unpack('d', F.read(8))[0]        # label (1 for native, -1 for non-native)\n",
    "            data = array.array('d')                         \n",
    "            data.fromfile(F, dimension)                     # feature vector (histograms, can be represented as a 23x40x7 matrix) \n",
    "            res.append([label, data])\n",
    "        result[pdbcode] = res\n",
    "        F.close()\n",
    "        if cnt == 13080:\n",
    "            break\n",
    "        cnt += 1\n",
    "    return result"
   ]
  },
  {
   "cell_type": "code",
   "execution_count": 4,
   "metadata": {
    "collapsed": false
   },
   "outputs": [
    {
     "name": "stderr",
     "output_type": "stream",
     "text": [
      "100%|█████████▉| 13067/13089 [01:46<00:00, 122.67it/s]"
     ]
    }
   ],
   "source": [
    "result = read_binaries('../../../../../basic_experiment/general-no2013_t14_t3_l7.0_g1.0_r1.0')"
   ]
  },
  {
   "cell_type": "code",
   "execution_count": 5,
   "metadata": {
    "collapsed": false
   },
   "outputs": [],
   "source": [
    "with open('../../../../../basic_experiment/affinity_data_refined.csv', 'r') as f:\n",
    "    data = f.read().split('\\n')\n",
    "    data = data[1:-1]"
   ]
  },
  {
   "cell_type": "code",
   "execution_count": 6,
   "metadata": {
    "collapsed": true
   },
   "outputs": [],
   "source": [
    "datasets = [\n",
    "    {'name': d.split(',')[0], 'value': d.split(',')[1], 'type': d.split(',')[3]}\n",
    "    for d in data\n",
    "]"
   ]
  },
  {
   "cell_type": "code",
   "execution_count": 7,
   "metadata": {
    "collapsed": true
   },
   "outputs": [],
   "source": [
    "Kd_values = []\n",
    "Ki_values = []\n",
    "for d in datasets:\n",
    "    if d['type'] == 'Kd':\n",
    "        Kd_values.append(d)\n",
    "    else:\n",
    "        Ki_values.append(d)"
   ]
  },
  {
   "cell_type": "code",
   "execution_count": 8,
   "metadata": {
    "collapsed": true
   },
   "outputs": [],
   "source": [
    "Kd_data = []\n",
    "for item in Kd_values:\n",
    "    Kd_data.append([item['value']] + result[item['name']])"
   ]
  },
  {
   "cell_type": "code",
   "execution_count": 9,
   "metadata": {
    "collapsed": false
   },
   "outputs": [],
   "source": [
    "Ki_data = []\n",
    "for item in Ki_values:\n",
    "    if item['name'] != '966c':\n",
    "        Ki_data.append([item['value']] + result[item['name']])"
   ]
  },
  {
   "cell_type": "markdown",
   "metadata": {},
   "source": [
    "### 1 этап. Предсказание свободной энергии.\n",
    "Для обучения рассматриваем для каждого комплекса только его нативную позу (т.к. только для них известны значения свободной энергии).\n",
    "\n",
    "Берем все нативные позы со значениями Ki (Ki_data) из refined dataset.\n",
    "\n",
    "Предсказываем значение Ki."
   ]
  },
  {
   "cell_type": "markdown",
   "metadata": {},
   "source": [
    "### Работа с данными:\n",
    "\n",
    "    1) Разделение данных на test и train и выделение аффинных данных (X_nat_train)\n",
    "    \n",
    "    2) Замена переменных\n",
    "    \n",
    "    3) Запись в файл нового вектора X (для работы в liblinear)"
   ]
  },
  {
   "cell_type": "code",
   "execution_count": 10,
   "metadata": {
    "collapsed": false
   },
   "outputs": [],
   "source": [
    "import time\n",
    "import numpy as np\n",
    "from math import log, exp\n",
    "from scipy.linalg import sqrtm, inv, norm\n",
    "from scipy.optimize import minimize"
   ]
  },
  {
   "cell_type": "code",
   "execution_count": 11,
   "metadata": {
    "collapsed": false
   },
   "outputs": [
    {
     "name": "stdout",
     "output_type": "stream",
     "text": [
      "--- 1.617832899093628 seconds ---\n"
     ]
    }
   ],
   "source": [
    "start_time = time.time()\n",
    "data = Ki_data\n",
    "train = data[:int(len(data) * 0.6)]\n",
    "test = data[int(len(data) * 0.6):]\n",
    "\n",
    "# Матрица признаков (для которых аффинности известны)\n",
    "X_nat_train = np.matrix([\n",
    "    t[1][1]\n",
    "    for t in train\n",
    "]).T\n",
    "\n",
    "# Столбец значений свободной энергии\n",
    "s_train = np.matrix([\n",
    "    float(t[0])\n",
    "    for t in train\n",
    "]).T\n",
    "print(\"--- %s seconds ---\" % (time.time() - start_time))"
   ]
  },
  {
   "cell_type": "code",
   "execution_count": 12,
   "metadata": {
    "collapsed": false
   },
   "outputs": [
    {
     "name": "stdout",
     "output_type": "stream",
     "text": [
      "(6440, 1245)\n",
      "(1245, 1)\n"
     ]
    }
   ],
   "source": [
    "print(X_nat_train.shape)\n",
    "print(s_train.shape)"
   ]
  },
  {
   "cell_type": "code",
   "execution_count": 13,
   "metadata": {
    "collapsed": false
   },
   "outputs": [
    {
     "name": "stderr",
     "output_type": "stream",
     "text": [
      "\r",
      "100%|█████████▉| 13067/13089 [02:19<00:00, 93.49it/s] "
     ]
    },
    {
     "name": "stdout",
     "output_type": "stream",
     "text": [
      "--- 19.805788040161133 seconds ---\n"
     ]
    }
   ],
   "source": [
    "start_time = time.time()\n",
    "X_train = []\n",
    "for t in train:\n",
    "    for pose in t[1:]:\n",
    "        X_train.append(pose[1])\n",
    "        \n",
    "X_train = np.matrix(X_train).T\n",
    "\n",
    "y_train = []\n",
    "for t in train:\n",
    "    for pose in t[1:]:\n",
    "        y_train.append(pose[0])\n",
    "\n",
    "y_train = np.matrix(y_train).T\n",
    "print(\"--- %s seconds ---\" % (time.time() - start_time))"
   ]
  },
  {
   "cell_type": "code",
   "execution_count": 14,
   "metadata": {
    "collapsed": false
   },
   "outputs": [
    {
     "name": "stdout",
     "output_type": "stream",
     "text": [
      "(6440, 23655)\n",
      "(23655, 1)\n"
     ]
    }
   ],
   "source": [
    "print(X_train.shape)\n",
    "print(y_train.shape)"
   ]
  },
  {
   "cell_type": "code",
   "execution_count": 15,
   "metadata": {
    "collapsed": false
   },
   "outputs": [
    {
     "name": "stdout",
     "output_type": "stream",
     "text": [
      "--- 214.7095491886139 seconds ---\n"
     ]
    }
   ],
   "source": [
    "# Замена переменных\n",
    "start_time = time.time()\n",
    "Cr = 100 # Коэффициент регуляризации\n",
    "XXT = X_nat_train @ X_nat_train.T\n",
    "I = np.identity(XXT.shape[0])\n",
    "A = np.real(sqrtm(0.5 * I + Cr * XXT))\n",
    "print(\"--- %s seconds ---\" % (time.time() - start_time))"
   ]
  },
  {
   "cell_type": "code",
   "execution_count": 16,
   "metadata": {
    "collapsed": false
   },
   "outputs": [
    {
     "name": "stdout",
     "output_type": "stream",
     "text": [
      "--- 13.45524001121521 seconds ---\n"
     ]
    }
   ],
   "source": [
    "start_time = time.time()\n",
    "A_inv = inv(A)\n",
    "B = Cr * A_inv @ X_nat_train @ s_train\n",
    "print(\"--- %s seconds ---\" % (time.time() - start_time))"
   ]
  },
  {
   "cell_type": "code",
   "execution_count": 17,
   "metadata": {
    "collapsed": false
   },
   "outputs": [
    {
     "name": "stdout",
     "output_type": "stream",
     "text": [
      "(6440, 6440)\n",
      "(6440, 1)\n"
     ]
    }
   ],
   "source": [
    "print(A.shape)\n",
    "print(B.shape)"
   ]
  },
  {
   "cell_type": "code",
   "execution_count": 18,
   "metadata": {
    "collapsed": false
   },
   "outputs": [
    {
     "name": "stdout",
     "output_type": "stream",
     "text": [
      "(23655, 6440)\n"
     ]
    }
   ],
   "source": [
    "newX = (A_inv.T @ X_train).T\n",
    "print(newX.shape)"
   ]
  },
  {
   "cell_type": "code",
   "execution_count": 19,
   "metadata": {
    "collapsed": false
   },
   "outputs": [
    {
     "name": "stderr",
     "output_type": "stream",
     "text": [
      "\n",
      "  0%|          | 0/23655 [00:00<?, ?it/s]\u001b[A\n",
      "  0%|          | 1/23655 [00:00<44:18,  8.90it/s]\u001b[A\n",
      "  0%|          | 2/23655 [00:00<1:00:15,  6.54it/s]\u001b[A\n",
      "  0%|          | 3/23655 [00:00<57:45,  6.83it/s]  \u001b[A\n",
      "  0%|          | 6/23655 [00:00<38:00, 10.37it/s]\u001b[A\n",
      "  0%|          | 9/23655 [00:00<31:28, 12.52it/s]\u001b[A\n",
      "  0%|          | 11/23655 [00:00<29:37, 13.30it/s]\u001b[A\n",
      "  0%|          | 14/23655 [00:00<26:38, 14.79it/s]\u001b[A\n",
      "  0%|          | 16/23655 [00:01<25:55, 15.20it/s]\u001b[A\n",
      "  0%|          | 18/23655 [00:01<27:19, 14.42it/s]\u001b[A\n",
      "  0%|          | 20/23655 [00:01<26:38, 14.79it/s]\u001b[A\n",
      "  0%|          | 23/23655 [00:01<25:12, 15.63it/s]\u001b[A\n",
      "  0%|          | 26/23655 [00:01<24:06, 16.33it/s]\u001b[A\n",
      "  0%|          | 29/23655 [00:01<22:59, 17.13it/s]\u001b[A\n",
      "  0%|          | 32/23655 [00:01<22:04, 17.84it/s]\u001b[A\n",
      "  0%|          | 35/23655 [00:01<21:27, 18.35it/s]\u001b[A\n",
      "  0%|          | 39/23655 [00:02<20:34, 19.13it/s]\u001b[A\n",
      "  0%|          | 43/23655 [00:02<19:55, 19.76it/s]\u001b[A\n",
      "  0%|          | 46/23655 [00:02<19:32, 20.13it/s]\u001b[A\n",
      "  0%|          | 49/23655 [00:02<19:12, 20.48it/s]\u001b[A\n",
      "  0%|          | 52/23655 [00:02<19:03, 20.65it/s]\u001b[A\n",
      "  0%|          | 55/23655 [00:02<18:44, 20.98it/s]\u001b[A\n",
      "  0%|          | 58/23655 [00:02<18:29, 21.28it/s]\u001b[A\n",
      "  0%|          | 61/23655 [00:02<18:48, 20.91it/s]\u001b[A\n",
      "  0%|          | 64/23655 [00:03<18:33, 21.18it/s]\u001b[A\n",
      "  0%|          | 68/23655 [00:03<18:13, 21.56it/s]\u001b[A\n",
      "  0%|          | 72/23655 [00:03<17:55, 21.93it/s]\u001b[A\n",
      "  0%|          | 75/23655 [00:03<17:44, 22.14it/s]\u001b[A\n",
      "  0%|          | 78/23655 [00:03<17:35, 22.35it/s]\u001b[A\n",
      "  0%|          | 81/23655 [00:03<17:31, 22.41it/s]\u001b[A\n",
      "  0%|          | 84/23655 [00:03<17:28, 22.48it/s]\u001b[A\n",
      "  0%|          | 87/23655 [00:03<17:29, 22.46it/s]\u001b[A\n",
      "  0%|          | 90/23655 [00:03<17:22, 22.60it/s]\u001b[A\n",
      "  0%|          | 93/23655 [00:04<17:18, 22.69it/s]\u001b[A\n",
      "  0%|          | 96/23655 [00:04<17:11, 22.83it/s]\u001b[A\n",
      "  0%|          | 99/23655 [00:04<17:04, 23.00it/s]\u001b[A\n",
      "  0%|          | 102/23655 [00:04<16:59, 23.11it/s]\u001b[A\n",
      "  0%|          | 106/23655 [00:04<16:56, 23.17it/s]\u001b[A\n",
      "  0%|          | 109/23655 [00:04<17:01, 23.05it/s]\u001b[A\n",
      "  0%|          | 112/23655 [00:04<17:05, 22.96it/s]\u001b[A\n",
      "  0%|          | 115/23655 [00:04<17:02, 23.02it/s]\u001b[A\n",
      "  0%|          | 118/23655 [00:05<16:58, 23.11it/s]\u001b[A\n",
      "  1%|          | 122/23655 [00:05<16:47, 23.35it/s]\u001b[A\n",
      "  1%|          | 125/23655 [00:05<16:42, 23.46it/s]\u001b[A\n",
      "  1%|          | 128/23655 [00:05<16:39, 23.54it/s]\u001b[A\n",
      "  1%|          | 132/23655 [00:05<16:30, 23.75it/s]\u001b[A\n",
      "  1%|          | 135/23655 [00:05<16:30, 23.75it/s]\u001b[A\n",
      "  1%|          | 138/23655 [00:05<16:28, 23.79it/s]\u001b[A\n",
      "  1%|          | 141/23655 [00:05<16:27, 23.82it/s]\u001b[A\n",
      "  1%|          | 144/23655 [00:06<16:25, 23.87it/s]\u001b[A\n",
      "  1%|          | 147/23655 [00:06<16:24, 23.88it/s]\u001b[A\n",
      "  1%|          | 150/23655 [00:06<16:25, 23.85it/s]\u001b[A\n",
      "  1%|          | 153/23655 [00:06<16:25, 23.85it/s]\u001b[A\n",
      "  1%|          | 156/23655 [00:06<16:25, 23.85it/s]\u001b[A\n",
      "  1%|          | 159/23655 [00:06<16:22, 23.91it/s]\u001b[A\n",
      "  1%|          | 162/23655 [00:06<16:22, 23.92it/s]\u001b[A\n",
      "  1%|          | 165/23655 [00:06<16:23, 23.88it/s]\u001b[A\n",
      "  1%|          | 168/23655 [00:07<16:20, 23.94it/s]\u001b[A\n",
      "  1%|          | 172/23655 [00:07<16:14, 24.10it/s]\u001b[A\n",
      "  1%|          | 175/23655 [00:07<16:11, 24.17it/s]\u001b[A\n",
      "  1%|          | 179/23655 [00:07<16:05, 24.31it/s]\u001b[A\n",
      "  1%|          | 183/23655 [00:07<16:00, 24.44it/s]\u001b[A\n",
      "Exception in thread Thread-4:\n",
      "Traceback (most recent call last):\n",
      "  File \"//anaconda/lib/python3.5/threading.py\", line 914, in _bootstrap_inner\n",
      "    self.run()\n",
      "  File \"//anaconda/lib/python3.5/site-packages/tqdm/_tqdm.py\", line 144, in run\n",
      "    for instance in self.tqdm_cls._instances:\n",
      "  File \"//anaconda/lib/python3.5/_weakrefset.py\", line 60, in __iter__\n",
      "    for itemref in self.data:\n",
      "RuntimeError: Set changed size during iteration\n",
      "\n",
      "100%|██████████| 23655/23655 [11:46<00:00, 33.49it/s]\n"
     ]
    }
   ],
   "source": [
    "with open(\"ki_train\", \"w\") as f:\n",
    "    for i in tqdm.tqdm(range(newX.shape[0])):\n",
    "        y_i = (\"+1 \" if y_train[i] == 1 else \"-1 \")\n",
    "        f.write(y_i)\n",
    "        for j in range(newX.shape[1]):\n",
    "            f.write(str(j + 1) + \":\" + str(newX[i,j]) + \" \")\n",
    "        f.write(\"\\n\")"
   ]
  },
  {
   "cell_type": "code",
   "execution_count": 21,
   "metadata": {
    "collapsed": false
   },
   "outputs": [
    {
     "name": "stdout",
     "output_type": "stream",
     "text": [
      "(23655, 1)\n"
     ]
    }
   ],
   "source": [
    "constant = np.multiply(y_train, ((A_inv @ B).T @ X_train).T)\n",
    "print(constant.shape)"
   ]
  },
  {
   "cell_type": "code",
   "execution_count": 23,
   "metadata": {
    "collapsed": false
   },
   "outputs": [
    {
     "data": {
      "text/plain": [
       "8.619652833637915"
      ]
     },
     "execution_count": 23,
     "metadata": {},
     "output_type": "execute_result"
    }
   ],
   "source": [
    "float(constant[0])"
   ]
  },
  {
   "cell_type": "code",
   "execution_count": 24,
   "metadata": {
    "collapsed": false
   },
   "outputs": [
    {
     "name": "stderr",
     "output_type": "stream",
     "text": [
      "100%|██████████| 23655/23655 [00:00<00:00, 69543.85it/s]\n"
     ]
    }
   ],
   "source": [
    "with open(\"ki_train_constant\", \"w\") as f:\n",
    "    for i in tqdm.tqdm(range(constant.shape[0])):\n",
    "        f.write(str(float(constant[i])) + \"\\n\")"
   ]
  },
  {
   "cell_type": "markdown",
   "metadata": {},
   "source": [
    "### Строим модель в liblinear, достаем вектор $w$ из файла .model и тестируем модель."
   ]
  },
  {
   "cell_type": "code",
   "execution_count": 25,
   "metadata": {
    "collapsed": true
   },
   "outputs": [],
   "source": [
    "from scipy.stats import spearmanr, pearsonr\n",
    "from sklearn.metrics import r2_score\n",
    "from sklearn.metrics import mean_squared_error"
   ]
  },
  {
   "cell_type": "code",
   "execution_count": 26,
   "metadata": {
    "collapsed": true
   },
   "outputs": [],
   "source": [
    "with open(\"../ki_train.model\", \"r\") as f:\n",
    "    data = f.read().split(\"\\n\")"
   ]
  },
  {
   "cell_type": "code",
   "execution_count": 27,
   "metadata": {
    "collapsed": true
   },
   "outputs": [],
   "source": [
    "newW = np.array(data[6:-1], dtype=float).reshape((6440, 1))"
   ]
  },
  {
   "cell_type": "code",
   "execution_count": 28,
   "metadata": {
    "collapsed": true
   },
   "outputs": [],
   "source": [
    "w = A_inv @ (newW + B)"
   ]
  },
  {
   "cell_type": "code",
   "execution_count": 29,
   "metadata": {
    "collapsed": true
   },
   "outputs": [],
   "source": [
    "# Матрица признаков (для которых аффинности известны)\n",
    "X_test = np.matrix([\n",
    "    t[1][1]\n",
    "    for t in test\n",
    "]).T\n",
    "\n",
    "# Столбец значений свободной энергии\n",
    "s_test = np.matrix([\n",
    "    float(t[0])\n",
    "    for t in test\n",
    "]).T"
   ]
  },
  {
   "cell_type": "code",
   "execution_count": 30,
   "metadata": {
    "collapsed": false
   },
   "outputs": [
    {
     "name": "stdout",
     "output_type": "stream",
     "text": [
      "Spearman:  SpearmanrResult(correlation=0.69015191946932408, pvalue=1.4434995449354607e-118)\n",
      "Pearson:  (0.68219302714172125, 7.5909374048635784e-115)\n",
      "R2:  0.343886262877\n",
      "MSE:  2.9417101318\n"
     ]
    }
   ],
   "source": [
    "# L2_LR с добавкой Constant\n",
    "prediction = w.T @ X_test\n",
    "print(\"Spearman: \", spearmanr(np.array(s_test.T)[0], np.array(prediction)[0]))\n",
    "print(\"Pearson: \", pearsonr(np.array(s_test.T)[0], np.array(prediction)[0]))\n",
    "print(\"R2: \", r2_score(np.array(s_test.T)[0], np.array(prediction)[0]))\n",
    "print(\"MSE: \", mean_squared_error(np.array(s_test.T)[0], np.array(prediction)[0]))"
   ]
  },
  {
   "cell_type": "code",
   "execution_count": 40,
   "metadata": {
    "collapsed": false
   },
   "outputs": [
    {
     "name": "stdout",
     "output_type": "stream",
     "text": [
      "SpearmanrResult(correlation=0.69015191946932408, pvalue=1.4434995449354607e-118)\n",
      "(0.68219302714172125, 7.5909374048635784e-115)\n",
      "0.343886262877\n",
      "2.9417101318\n"
     ]
    }
   ],
   "source": [
    "# L2_LR с добавкой Constant\n",
    "prediction = w.T @ X_test\n",
    "print(spearmanr(np.array(s_test.T)[0], np.array(prediction)[0]))\n",
    "print(pearsonr(np.array(s_test.T)[0], np.array(prediction)[0]))\n",
    "print(r2_score(np.array(s_test.T)[0], np.array(prediction)[0]))\n",
    "print(mean_squared_error(np.array(s_test.T)[0], np.array(prediction)[0]))"
   ]
  },
  {
   "cell_type": "code",
   "execution_count": 34,
   "metadata": {
    "collapsed": false
   },
   "outputs": [
    {
     "name": "stdout",
     "output_type": "stream",
     "text": [
      "SpearmanrResult(correlation=0.69322426613187826, pvalue=4.9040465422768512e-120)\n",
      "(0.68575165540911154, 1.7036531159905999e-116)\n",
      "0.350186214271\n",
      "2.91346406744\n"
     ]
    }
   ],
   "source": [
    "# L2_LOSS_SVC_DUAL\n",
    "prediction = w.T @ X_test\n",
    "print(spearmanr(np.array(s_test.T)[0], np.array(prediction)[0]))\n",
    "print(pearsonr(np.array(s_test.T)[0], np.array(prediction)[0]))\n",
    "print(r2_score(np.array(s_test.T)[0], np.array(prediction)[0]))\n",
    "print(mean_squared_error(np.array(s_test.T)[0], np.array(prediction)[0]))"
   ]
  },
  {
   "cell_type": "code",
   "execution_count": 26,
   "metadata": {
    "collapsed": false
   },
   "outputs": [
    {
     "name": "stdout",
     "output_type": "stream",
     "text": [
      "SpearmanrResult(correlation=0.68356234628229917, pvalue=1.7725783590839373e-115)\n",
      "(0.67049209677989263, 1.3800783330340288e-109)\n",
      "-0.146462513968\n",
      "5.14020695231\n"
     ]
    }
   ],
   "source": [
    "# Тренинговая аффинная выборка и Cr = 100 (вместо 10000), C = 1024\n",
    "prediction = w.T @ X_test\n",
    "print(spearmanr(np.array(s_test.T)[0], np.array(prediction)[0]))\n",
    "print(pearsonr(np.array(s_test.T)[0], np.array(prediction)[0]))\n",
    "print(r2_score(np.array(s_test.T)[0], np.array(prediction)[0]))\n",
    "print(mean_squared_error(np.array(s_test.T)[0], np.array(prediction)[0]))"
   ]
  },
  {
   "cell_type": "code",
   "execution_count": 23,
   "metadata": {
    "collapsed": false
   },
   "outputs": [
    {
     "name": "stdout",
     "output_type": "stream",
     "text": [
      "SpearmanrResult(correlation=0.62014223685389513, pvalue=2.6774230060625381e-133)\n",
      "(0.60320970317061684, 2.4116978508802566e-124)\n",
      "-0.209361431428\n",
      "5.41602792232\n"
     ]
    }
   ],
   "source": [
    "# Тренинговая аффинная выборка и Cr = 10000 (вместо 100), C = 1024\n",
    "prediction = w.T @ X_test_reg\n",
    "print(spearmanr(np.array(s_test.T)[0], np.array(prediction)[0]))\n",
    "print(pearsonr(np.array(s_test.T)[0], np.array(prediction)[0]))\n",
    "print(r2_score(np.array(s_test.T)[0], np.array(prediction)[0]))\n",
    "print(mean_squared_error(np.array(s_test.T)[0], np.array(prediction)[0]))"
   ]
  },
  {
   "cell_type": "code",
   "execution_count": 76,
   "metadata": {
    "collapsed": false
   },
   "outputs": [
    {
     "name": "stdout",
     "output_type": "stream",
     "text": [
      "SpearmanrResult(correlation=0.78110546631570565, pvalue=1.0389205936255559e-256)\n",
      "(0.77570934211099696, 6.0031501273757858e-251)\n",
      "0.327181243734\n",
      "3.01316469659\n"
     ]
    }
   ],
   "source": [
    "# Добавил полную аффинную выборку и Cr = 100 (вместо 10), C = 1024\n",
    "prediction = w.T @ X_test_reg\n",
    "print(spearmanr(np.array(s_test.T)[0], np.array(prediction)[0]))\n",
    "print(pearsonr(np.array(s_test.T)[0], np.array(prediction)[0]))\n",
    "print(r2_score(np.array(s_test.T)[0], np.array(prediction)[0]))\n",
    "print(mean_squared_error(np.array(s_test.T)[0], np.array(prediction)[0]))"
   ]
  },
  {
   "cell_type": "code",
   "execution_count": 65,
   "metadata": {
    "collapsed": false
   },
   "outputs": [
    {
     "name": "stdout",
     "output_type": "stream",
     "text": [
      "SpearmanrResult(correlation=0.68905982191288717, pvalue=3.597549765965038e-176)\n",
      "(0.67739176428319892, 4.3851607724117059e-168)\n",
      "-0.233452411741\n",
      "5.52391744043\n"
     ]
    }
   ],
   "source": [
    "# Добавил полную аффинную выборку и Cr = 5 (вместо 0.5), C = 1024\n",
    "prediction = w.T @ X_test_reg\n",
    "print(spearmanr(np.array(s_test.T)[0], np.array(prediction)[0]))\n",
    "print(pearsonr(np.array(s_test.T)[0], np.array(prediction)[0]))\n",
    "print(r2_score(np.array(s_test.T)[0], np.array(prediction)[0]))\n",
    "print(mean_squared_error(np.array(s_test.T)[0], np.array(prediction)[0]))"
   ]
  },
  {
   "cell_type": "code",
   "execution_count": 47,
   "metadata": {
    "collapsed": false
   },
   "outputs": [
    {
     "name": "stdout",
     "output_type": "stream",
     "text": [
      "SpearmanrResult(correlation=0.59782292604876919, pvalue=1.3171390817460266e-121)\n",
      "(0.5853307218911773, 1.8685088214099835e-115)\n",
      "-1.06153063991\n",
      "9.23239919705\n"
     ]
    }
   ],
   "source": [
    "# Аффинная выборка только из тренинговой выборки, Cr = 0.5, C = 1024\n",
    "prediction = w.T @ X_test_reg\n",
    "print(spearmanr(np.array(s_test.T)[0], np.array(prediction)[0]))\n",
    "print(pearsonr(np.array(s_test.T)[0], np.array(prediction)[0]))\n",
    "print(r2_score(np.array(s_test.T)[0], np.array(prediction)[0]))\n",
    "print(mean_squared_error(np.array(s_test.T)[0], np.array(prediction)[0]))"
   ]
  }
 ],
 "metadata": {
  "anaconda-cloud": {},
  "kernelspec": {
   "display_name": "Python [Root]",
   "language": "python",
   "name": "Python [Root]"
  },
  "language_info": {
   "codemirror_mode": {
    "name": "ipython",
    "version": 3
   },
   "file_extension": ".py",
   "mimetype": "text/x-python",
   "name": "python",
   "nbconvert_exporter": "python",
   "pygments_lexer": "ipython3",
   "version": "3.5.2"
  }
 },
 "nbformat": 4,
 "nbformat_minor": 0
}
