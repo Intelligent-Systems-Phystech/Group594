{
 "cells": [
  {
   "cell_type": "code",
   "execution_count": 1,
   "metadata": {
    "collapsed": true
   },
   "outputs": [],
   "source": [
    "import array, struct, sys, os, tqdm\n",
    "import numpy as np\n",
    "\n",
    "def read_binaries(path_binfiles):\n",
    "    result = {}\n",
    "    cnt = 0\n",
    "    for binfile in tqdm.tqdm(os.listdir(path_binfiles)):\n",
    "        pdbcode = binfile.split('.')[0]                     # name of file (pdbcode)\n",
    "        F = open('{0}/{1}'.format(path_binfiles, binfile), 'rb')\n",
    "        n_decoys = struct.unpack('i', F.read(4))[0]         # number of decoys (=19 for this dataset)\n",
    "        dimension = struct.unpack('i', F.read(4))[0]        # data dimensionality (23 protein types x 40 ligand types x 7 bins for this dataset)\n",
    "        res = []\n",
    "        for i in range(n_decoys):\n",
    "            label = struct.unpack('d', F.read(8))[0]        # label (1 for native, -1 for non-native)\n",
    "            data = array.array('d')                         \n",
    "            data.fromfile(F, dimension)                     # feature vector (histograms, can be represented as a 23x40x7 matrix) \n",
    "            res.append([label, data])\n",
    "        result[pdbcode] = res\n",
    "        F.close()\n",
    "        if cnt == 13080:\n",
    "            break\n",
    "        cnt += 1\n",
    "    return result"
   ]
  },
  {
   "cell_type": "code",
   "execution_count": 2,
   "metadata": {
    "collapsed": false
   },
   "outputs": [
    {
     "name": "stderr",
     "output_type": "stream",
     "text": [
      "100%|█████████▉| 13080/13089 [01:52<00:00, 116.08it/s]"
     ]
    }
   ],
   "source": [
    "result = read_binaries('../../../../../basic_experiment/general-no2013_t14_t3_l7.0_g1.0_r1.0')"
   ]
  },
  {
   "cell_type": "code",
   "execution_count": 3,
   "metadata": {
    "collapsed": true
   },
   "outputs": [],
   "source": [
    "with open('../../../../../basic_experiment/affinity_data_refined.csv', 'r') as f:\n",
    "    data = f.read().split('\\n')\n",
    "    data = data[1:-1]"
   ]
  },
  {
   "cell_type": "code",
   "execution_count": 4,
   "metadata": {
    "collapsed": true
   },
   "outputs": [],
   "source": [
    "datasets = [\n",
    "    {'name': d.split(',')[0], 'value': d.split(',')[1], 'type': d.split(',')[3]}\n",
    "    for d in data\n",
    "]"
   ]
  },
  {
   "cell_type": "code",
   "execution_count": 5,
   "metadata": {
    "collapsed": true
   },
   "outputs": [],
   "source": [
    "Kd_values = []\n",
    "Ki_values = []\n",
    "for d in datasets:\n",
    "    if d['type'] == 'Kd':\n",
    "        Kd_values.append(d)\n",
    "    else:\n",
    "        Ki_values.append(d)"
   ]
  },
  {
   "cell_type": "code",
   "execution_count": 6,
   "metadata": {
    "collapsed": true
   },
   "outputs": [],
   "source": [
    "Kd_data = []\n",
    "for item in Kd_values:\n",
    "    Kd_data.append([item['value']] + result[item['name']])"
   ]
  },
  {
   "cell_type": "code",
   "execution_count": 7,
   "metadata": {
    "collapsed": false
   },
   "outputs": [],
   "source": [
    "Ki_data = []\n",
    "for item in Ki_values:\n",
    "    if item['name'] != '966c':\n",
    "        Ki_data.append([item['value']] + result[item['name']])"
   ]
  },
  {
   "cell_type": "markdown",
   "metadata": {},
   "source": [
    "# Подбираем значение Cr по сетке"
   ]
  },
  {
   "cell_type": "code",
   "execution_count": 8,
   "metadata": {
    "collapsed": true
   },
   "outputs": [],
   "source": [
    "import time\n",
    "import numpy as np\n",
    "from math import log, exp\n",
    "from scipy.linalg import sqrtm, inv, norm\n",
    "from scipy.optimize import minimize"
   ]
  },
  {
   "cell_type": "code",
   "execution_count": 9,
   "metadata": {
    "collapsed": false
   },
   "outputs": [],
   "source": [
    "data = Ki_data"
   ]
  },
  {
   "cell_type": "code",
   "execution_count": 10,
   "metadata": {
    "collapsed": false
   },
   "outputs": [
    {
     "name": "stderr",
     "output_type": "stream",
     "text": [
      "\r",
      "100%|█████████▉| 13080/13089 [02:10<00:00, 100.60it/s]"
     ]
    }
   ],
   "source": [
    "np.random.shuffle(data)\n",
    "train = data[:int(len(data) * 0.7)]\n",
    "test = data[int(len(data) * 0.7):]"
   ]
  },
  {
   "cell_type": "code",
   "execution_count": 11,
   "metadata": {
    "collapsed": false
   },
   "outputs": [],
   "source": [
    "# Матрица признаков (для которых аффинности известны)\n",
    "X_nat_train = []\n",
    "for i, t in enumerate(train):\n",
    "    # Повышаем размерность (за счет вектора сдвигов b)\n",
    "    additional = np.zeros(len(train))\n",
    "    additional[i] = -1\n",
    "    X_nat_train.append(np.append(t[1][1], additional))\n",
    "X_nat_train = np.matrix(X_nat_train).T\n",
    "\n",
    "# Столбец значений свободной энергии\n",
    "s_train = np.matrix([\n",
    "    float(t[0])\n",
    "    for t in train\n",
    "]).T"
   ]
  },
  {
   "cell_type": "code",
   "execution_count": 12,
   "metadata": {
    "collapsed": false
   },
   "outputs": [
    {
     "name": "stdout",
     "output_type": "stream",
     "text": [
      "(7893, 27607)\n"
     ]
    }
   ],
   "source": [
    "# Матрица признаков всей обучающей выборки\n",
    "X_train = []\n",
    "for i, t in enumerate(train):\n",
    "    # Повышаем размерность (за счет вектора сдвигов b)\n",
    "    additional = np.zeros(len(train))\n",
    "    additional[i] = -1\n",
    "    for pose in t[1:]:\n",
    "        X_train.append(np.append(pose[1], additional))\n",
    "        \n",
    "X_train = np.matrix(X_train).T\n",
    "print(X_train.shape)\n",
    "\n",
    "# Классы обучающей выборки\n",
    "y_train = []\n",
    "for t in train:\n",
    "    for pose in t[1:]:\n",
    "        y_train.append(pose[0])\n",
    "\n",
    "y_train = np.matrix(y_train).T"
   ]
  },
  {
   "cell_type": "code",
   "execution_count": 14,
   "metadata": {
    "collapsed": false
   },
   "outputs": [],
   "source": [
    "# Матрица признаков всей тестовой выборки\n",
    "X_test = []\n",
    "for t in test:\n",
    "    for pose in t[1:]:\n",
    "        X_test.append(pose[1])\n",
    "        \n",
    "X_test = np.matrix(X_test).T\n",
    "\n",
    "y_test = []\n",
    "for t in test:\n",
    "    for pose in t[1:]:\n",
    "        y_test.append(pose[0])\n",
    "\n",
    "y_test = np.matrix(y_test).T"
   ]
  },
  {
   "cell_type": "code",
   "execution_count": null,
   "metadata": {
    "collapsed": false
   },
   "outputs": [],
   "source": [
    "#Проходим по сетке значений Cr, записываем в файлы обратную матрицу A_inv, \"новую\" матрицу признаков X_new\n",
    "for Cr in [0.001, 0.01, 0.1, 1, 10, 100, 1000, 10000]:\n",
    "    # Замена переменных\n",
    "    XXT = X_nat_train @ X_nat_train.T\n",
    "    I = np.identity(XXT.shape[0])\n",
    "    A = np.real(sqrtm(0.5 * I + Cr * XXT))\n",
    "    A_inv = inv(A)\n",
    "    np.savetxt(\"grid_search/A_inv_cr_\" + str(Cr), A_inv)\n",
    "    \n",
    "    newX_train = (A_inv.T @ X_train).T\n",
    "    # Запись обучающей выборки в файл\n",
    "    with open(\"grid_search/ki_train_cr_\" + str(Cr), \"w\") as f:\n",
    "        for i in range(newX_train.shape[0]):\n",
    "            y_i = (\"+1 \" if y_train[i] == 1 else \"-1 \")\n",
    "            f.write(y_i)\n",
    "            for j in range(newX_train.shape[1]):\n",
    "                f.write(str(j + 1) + \":\" + str(newX_train[i,j]) + \" \")\n",
    "            f.write(\"\\n\")\n",
    "            \n",
    "    print(Cr, \"done\")"
   ]
  },
  {
   "cell_type": "markdown",
   "metadata": {
    "collapsed": true
   },
   "source": [
    "# Тестирование"
   ]
  },
  {
   "cell_type": "code",
   "execution_count": 12,
   "metadata": {
    "collapsed": true
   },
   "outputs": [],
   "source": [
    "from scipy.stats import spearmanr, pearsonr\n",
    "from sklearn.metrics import r2_score\n",
    "from sklearn.metrics import mean_squared_error"
   ]
  },
  {
   "cell_type": "code",
   "execution_count": 20,
   "metadata": {
    "collapsed": false
   },
   "outputs": [
    {
     "name": "stdout",
     "output_type": "stream",
     "text": [
      "Cr = 10\n",
      "Spearman:  SpearmanrResult(correlation=0.46285137424377648, pvalue=5.7026302735672875e-83)\n",
      "Pearson:  (0.46389138089287596, 2.2046558027070778e-83)\n",
      "R2:  -107.114070715\n",
      "MSE:  432.476786861\n",
      "\n"
     ]
    }
   ],
   "source": [
    "complexes_number = 831\n",
    "poses_number = 19\n",
    "\n",
    "# Матрица признаков (для которых аффинности известны)\n",
    "X_test = np.matrix([\n",
    "    t[1][1]\n",
    "    for t in test\n",
    "]).T\n",
    "\n",
    "# Столбец значений свободной энергии\n",
    "s_test = np.matrix([\n",
    "    float(t[0])\n",
    "    for t in test\n",
    "]).T\n",
    "\n",
    "Crs = [10]\n",
    "pearsons = []\n",
    "Rs = []\n",
    "MSEs = []\n",
    "\n",
    "for Cr in Crs:\n",
    "    print(\"Cr =\", Cr)\n",
    "    \n",
    "    # Считали полученный вектор w\n",
    "    with open(\"cross_validation/ki_train_cr_\" + str(Cr) + \".model\", \"r\") as f:\n",
    "        data = f.read().split(\"\\n\")\n",
    "    newW = np.array(data[6:-1], dtype=float).reshape((8759, 1))\n",
    "        \n",
    "#     # Accuracy (poses):\n",
    "#     newW = np.array(data[6:-1], dtype=float).reshape((6440, 1))\n",
    "#     predicted_labels = (newW.T @ newX_test.T).tolist()[0]\n",
    "#     y_pred = [\n",
    "#        1 if label > 0 else -1\n",
    "#        for label in predicted_labels\n",
    "#     ]\n",
    "#     cnt = 0\n",
    "#     for i in range(complexes_number):\n",
    "#        flag = True\n",
    "#        for j in range(poses_number):\n",
    "#            index = i * poses_number + j\n",
    "#            if (y_pred[index] != y_test[index]):\n",
    "#                flag = False\n",
    "#        if flag is True:\n",
    "#            cnt += 1\n",
    "#     print(\"Accuracy: \", cnt / complexes_number)\n",
    "    \n",
    "    # Tests (affinities)\n",
    "    \n",
    "    # Считали матрицу A_inv\n",
    "    A_inv = np.loadtxt(\"cross_validation/A_inv_cr_\" + str(Cr))\n",
    "    B = Cr * A_inv @ X_nat_train @ s_train\n",
    "    # Обратная замена переменных\n",
    "    w = A_inv @ (newW + B)\n",
    "    # Отбрасываем лишние компоненты вектора w\n",
    "    w = w[:6440]\n",
    "    np.savetxt(\"cross_validation/ki_w_cr_\" + str(Cr) + \".txt\", w.T)\n",
    "    prediction = w.T @ X_test\n",
    "    print(\"Spearman: \", spearmanr(np.array(s_test.T)[0], np.array(prediction)[0]))\n",
    "    print(\"Pearson: \", pearsonr(np.array(s_test.T)[0], np.array(prediction)[0]))\n",
    "    pearsons.append(pearsonr(np.array(s_test.T)[0], np.array(prediction)[0])[0])\n",
    "    print(\"R2: \", r2_score(np.array(s_test.T)[0], np.array(prediction)[0]))\n",
    "    Rs.append(r2_score(np.array(s_test.T)[0], np.array(prediction)[0]))\n",
    "    print(\"MSE: \", mean_squared_error(np.array(s_test.T)[0], np.array(prediction)[0]))\n",
    "    MSEs.append(mean_squared_error(np.array(s_test.T)[0], np.array(prediction)[0]))\n",
    "    print()"
   ]
  },
  {
   "cell_type": "code",
   "execution_count": 14,
   "metadata": {
    "collapsed": false
   },
   "outputs": [
    {
     "name": "stdout",
     "output_type": "stream",
     "text": [
      "Cr = 0.0001\n",
      "Spearman:  SpearmanrResult(correlation=-0.409994762654802, pvalue=4.9844212622572388e-35)\n",
      "Pearson:  (-0.36642333964928231, 8.3385954875318955e-28)\n",
      "R2:  -12.3404078385\n",
      "MSE:  59.8122104146\n",
      "\n",
      "Cr = 0.001\n",
      "Spearman:  SpearmanrResult(correlation=0.42690892792267837, pvalue=3.8978952709507938e-38)\n",
      "Pearson:  (0.45654065886916034, 5.0705844321848694e-44)\n",
      "R2:  -9.20978596959\n",
      "MSE:  45.7759518371\n",
      "\n",
      "Cr = 0.01\n",
      "Spearman:  SpearmanrResult(correlation=0.52281583140347254, pvalue=1.7599610076904762e-59)\n",
      "Pearson:  (0.52194026361430235, 2.9695640175696475e-59)\n",
      "R2:  -2.8487372741\n",
      "MSE:  17.2559554742\n",
      "\n",
      "Cr = 0.1\n",
      "Spearman:  SpearmanrResult(correlation=0.55754294493789058, pvalue=4.7323404641385009e-69)\n",
      "Pearson:  (0.54529775975823924, 1.5069496502654572e-65)\n",
      "R2:  -0.7887399757\n",
      "MSE:  8.01988163323\n",
      "\n",
      "Cr = 1\n",
      "Spearman:  SpearmanrResult(correlation=0.5961224844960199, pvalue=4.2431698459141369e-81)\n",
      "Pearson:  (0.57868069310121251, 1.8769662573830161e-75)\n",
      "R2:  -0.249986565528\n",
      "MSE:  5.60436085448\n",
      "\n",
      "Cr = 10\n",
      "Spearman:  SpearmanrResult(correlation=0.61787354330220512, pvalue=1.2110484736857573e-88)\n",
      "Pearson:  (0.60128900071562996, 7.7278825482678138e-83)\n",
      "R2:  -0.0700947263331\n",
      "MSE:  4.79780916071\n",
      "\n",
      "Cr = 100\n",
      "Spearman:  SpearmanrResult(correlation=0.61471896250691049, pvalue=1.636863636189424e-87)\n",
      "Pearson:  (0.59379294455137632, 2.5222499679786557e-80)\n",
      "R2:  -0.00604749529564\n",
      "MSE:  4.51065103888\n",
      "\n",
      "Cr = 1000\n",
      "Spearman:  SpearmanrResult(correlation=0.61146242811614826, pvalue=2.333700456950958e-86)\n",
      "Pearson:  (0.59015842434259658, 3.9534057926477655e-79)\n",
      "R2:  -0.0166404880756\n",
      "MSE:  4.55814511258\n",
      "\n",
      "Cr = 10000\n",
      "Spearman:  SpearmanrResult(correlation=0.61108014656989817, pvalue=3.1815229315186724e-86)\n",
      "Pearson:  (0.58976405964880951, 5.3179431085459168e-79)\n",
      "R2:  -0.0182834459808\n",
      "MSE:  4.56551137493\n",
      "\n",
      "Cr = 100000\n",
      "Spearman:  SpearmanrResult(correlation=0.61107065278826711, pvalue=3.2060861948688413e-86)\n",
      "Pearson:  (0.58969458848428113, 5.6028604317019583e-79)\n",
      "R2:  -0.0184732871014\n",
      "MSE:  4.56636253459\n",
      "\n"
     ]
    }
   ],
   "source": [
    "complexes_number = 831\n",
    "poses_number = 19\n",
    "\n",
    "# Матрица признаков (для которых аффинности известны)\n",
    "X_test = np.matrix([\n",
    "    t[1][1]\n",
    "    for t in test\n",
    "]).T\n",
    "\n",
    "# Столбец значений свободной энергии\n",
    "s_test = np.matrix([\n",
    "    float(t[0])\n",
    "    for t in test\n",
    "]).T\n",
    "\n",
    "Crs = [0.0001, 0.001, 0.01, 0.1, 1, 10, 100, 1000, 10000, 100000]\n",
    "pearsons = []\n",
    "Rs = []\n",
    "MSEs = []\n",
    "\n",
    "for Cr in Crs:\n",
    "    print(\"Cr =\", Cr)\n",
    "    \n",
    "    # Считали полученный вектор w\n",
    "    with open(\"cross_validation/ki_train_cr_\" + str(Cr) + \".model\", \"r\") as f:\n",
    "        data = f.read().split(\"\\n\")\n",
    "    newW = np.array(data[6:-1], dtype=float).reshape((7685, 1))\n",
    "        \n",
    "#     # Accuracy (poses):\n",
    "#     newW = np.array(data[6:-1], dtype=float).reshape((6440, 1))\n",
    "#     predicted_labels = (newW.T @ newX_test.T).tolist()[0]\n",
    "#     y_pred = [\n",
    "#        1 if label > 0 else -1\n",
    "#        for label in predicted_labels\n",
    "#     ]\n",
    "#     cnt = 0\n",
    "#     for i in range(complexes_number):\n",
    "#        flag = True\n",
    "#        for j in range(poses_number):\n",
    "#            index = i * poses_number + j\n",
    "#            if (y_pred[index] != y_test[index]):\n",
    "#                flag = False\n",
    "#        if flag is True:\n",
    "#            cnt += 1\n",
    "#     print(\"Accuracy: \", cnt / complexes_number)\n",
    "    \n",
    "    # Tests (affinities)\n",
    "    \n",
    "    # Считали матрицу A_inv\n",
    "    A_inv = np.loadtxt(\"cross_validation/A_inv_cr_\" + str(Cr))\n",
    "    B = Cr * A_inv @ X_nat_train @ s_train\n",
    "    # Обратная замена переменных\n",
    "    w = A_inv @ (newW + B)\n",
    "    # Отбрасываем лишние компоненты вектора w\n",
    "    w = w[:6440]\n",
    "    np.savetxt(\"cross_validation/ki_w_cr_\" + str(Cr) + \".txt\", w.T)\n",
    "    prediction = w.T @ X_test\n",
    "    print(\"Spearman: \", spearmanr(np.array(s_test.T)[0], np.array(prediction)[0]))\n",
    "    print(\"Pearson: \", pearsonr(np.array(s_test.T)[0], np.array(prediction)[0]))\n",
    "    pearsons.append(pearsonr(np.array(s_test.T)[0], np.array(prediction)[0])[0])\n",
    "    print(\"R2: \", r2_score(np.array(s_test.T)[0], np.array(prediction)[0]))\n",
    "    Rs.append(r2_score(np.array(s_test.T)[0], np.array(prediction)[0]))\n",
    "    print(\"MSE: \", mean_squared_error(np.array(s_test.T)[0], np.array(prediction)[0]))\n",
    "    MSEs.append(mean_squared_error(np.array(s_test.T)[0], np.array(prediction)[0]))\n",
    "    print()"
   ]
  },
  {
   "cell_type": "code",
   "execution_count": 40,
   "metadata": {
    "collapsed": false
   },
   "outputs": [
    {
     "name": "stdout",
     "output_type": "stream",
     "text": [
      "Using matplotlib backend: MacOSX\n"
     ]
    }
   ],
   "source": [
    "import matplotlib.pyplot as plt\n",
    "%matplotlib auto"
   ]
  },
  {
   "cell_type": "code",
   "execution_count": 47,
   "metadata": {
    "collapsed": false
   },
   "outputs": [],
   "source": [
    "plt.plot(np.log10(np.array(Crs)), pearsons, label=\"Pearson\")\n",
    "plt.xlabel(r\"$\\log_{10}{C_r}$\", fontsize=17)\n",
    "plt.ylabel(r\"$\\rho$\", fontsize=17)\n",
    "plt.show()"
   ]
  },
  {
   "cell_type": "code",
   "execution_count": 48,
   "metadata": {
    "collapsed": false
   },
   "outputs": [],
   "source": [
    "plt.plot(np.log10(np.array(Crs)), Rs, label=\"R^2\")\n",
    "plt.xlabel(r\"$\\log_{10}{C_r}$\", fontsize=17)\n",
    "plt.ylabel(r\"$R^2$\", fontsize=17)\n",
    "plt.ylim([-14, 5])\n",
    "plt.show()"
   ]
  },
  {
   "cell_type": "code",
   "execution_count": 50,
   "metadata": {
    "collapsed": false
   },
   "outputs": [],
   "source": [
    "plt.plot(np.log10(np.array(Crs)), MSEs, label=\"MSE\")\n",
    "plt.xlabel(r\"$\\log_{10}{C_r}$\", fontsize=17)\n",
    "plt.ylabel(r\"$MSE$\", fontsize=17)\n",
    "plt.show()"
   ]
  },
  {
   "cell_type": "markdown",
   "metadata": {
    "collapsed": true
   },
   "source": [
    "# Cr = 100, подбираем значение C"
   ]
  },
  {
   "cell_type": "code",
   "execution_count": 54,
   "metadata": {
    "collapsed": true
   },
   "outputs": [],
   "source": [
    "A_inv = np.loadtxt(\"cross_validation/A_inv_cr_100\")\n",
    "B = Cr * A_inv @ X_nat_train @ s_train"
   ]
  },
  {
   "cell_type": "code",
   "execution_count": 55,
   "metadata": {
    "collapsed": false
   },
   "outputs": [
    {
     "name": "stdout",
     "output_type": "stream",
     "text": [
      "C = 0.001\n",
      "Spearman:  SpearmanrResult(correlation=0.60268060691746517, pvalue=2.5944127084992643e-83)\n",
      "Pearson:  (0.58339392208761875, 6.045806517502942e-77)\n",
      "R2:  0.0228384942097\n",
      "MSE:  4.38113963989\n",
      "\n",
      "C = 0.01\n",
      "Spearman:  SpearmanrResult(correlation=0.60313116422808843, pvalue=1.8199735249424023e-83)\n",
      "Pearson:  (0.58381501504663869, 4.4357253212559214e-77)\n",
      "R2:  0.0229607455572\n",
      "MSE:  4.38059152146\n",
      "\n",
      "C = 0.1\n",
      "Spearman:  SpearmanrResult(correlation=0.60674095512346204, pvalue=1.0411806655119487e-84)\n",
      "Pearson:  (0.58674458871982138, 5.0797665217411782e-78)\n",
      "R2:  0.0189372041506\n",
      "MSE:  4.39863121771\n",
      "\n",
      "C = 1\n",
      "Spearman:  SpearmanrResult(correlation=0.61471896250691049, pvalue=1.636863636189424e-87)\n",
      "Pearson:  (0.59379294455137632, 2.5222499679786557e-80)\n",
      "R2:  -0.00604749529564\n",
      "MSE:  4.51065103888\n",
      "\n",
      "C = 10\n",
      "Spearman:  SpearmanrResult(correlation=0.63159266419008164, pvalue=1.0278892726106344e-93)\n",
      "Pearson:  (0.61649091751475804, 3.8052671639166052e-88)\n",
      "R2:  0.0634068854142\n",
      "MSE:  4.19924976213\n",
      "\n",
      "C = 100\n",
      "Spearman:  SpearmanrResult(correlation=0.63390231933162466, pvalue=1.3579886431820151e-94)\n",
      "Pearson:  (0.62047135044903912, 1.387375396149551e-89)\n",
      "R2:  -0.406252773951\n",
      "MSE:  6.3049861616\n",
      "\n",
      "C = 1000\n",
      "Spearman:  SpearmanrResult(correlation=0.59131289080775351, pvalue=1.6556954260834601e-79)\n",
      "Pearson:  (0.5791235413171375, 1.3623975033622847e-75)\n",
      "R2:  -8.19262311536\n",
      "MSE:  41.2154646766\n",
      "\n",
      "C = 10000\n",
      "Spearman:  SpearmanrResult(correlation=0.46412671624773477, pvalue=1.2665189712559725e-45)\n",
      "Pearson:  (0.44205633690776069, 4.5160778166762716e-41)\n",
      "R2:  -37.3120785369\n",
      "MSE:  171.773616715\n",
      "\n"
     ]
    }
   ],
   "source": [
    "complexes_number = 831\n",
    "poses_number = 19\n",
    "\n",
    "# Матрица признаков (для которых аффинности известны)\n",
    "X_test = np.matrix([\n",
    "    t[1][1]\n",
    "    for t in test\n",
    "]).T\n",
    "\n",
    "# Столбец значений свободной энергии\n",
    "s_test = np.matrix([\n",
    "    float(t[0])\n",
    "    for t in test\n",
    "]).T\n",
    "\n",
    "Cs = [0.001, 0.01, 0.1, 1, 10, 100, 1000, 10000]\n",
    "cpearsons = []\n",
    "cRs = []\n",
    "cMSEs = []\n",
    "Cr = 100\n",
    "\n",
    "for C in Cs:\n",
    "    print(\"C =\", C)\n",
    "    \n",
    "    with open(\"cross_validation/c_grid/ki_train_cr_100_c_\" + str(C) + \".model\", \"r\") as f:\n",
    "        data = f.read().split(\"\\n\")\n",
    "        \n",
    "#     # Accuracy (poses):\n",
    "#     newW = np.array(data[6:-1], dtype=float).reshape((6440, 1))\n",
    "#     predicted_labels = (newW.T @ newX_test.T).tolist()[0]\n",
    "#     y_pred = [\n",
    "#        1 if label > 0 else -1\n",
    "#        for label in predicted_labels\n",
    "#     ]\n",
    "#     cnt = 0\n",
    "#     for i in range(complexes_number):\n",
    "#        flag = True\n",
    "#        for j in range(poses_number):\n",
    "#            index = i * poses_number + j\n",
    "#            if (y_pred[index] != y_test[index]):\n",
    "#                flag = False\n",
    "#        if flag is True:\n",
    "#            cnt += 1\n",
    "#     print(\"Accuracy: \", cnt / complexes_number)\n",
    "    \n",
    "    # Tests (affinities)\n",
    "    newW = np.array(data[6:-1], dtype=float).reshape((7685, 1))\n",
    "    w = A_inv @ (newW + B)\n",
    "    w = w[:6440]\n",
    "    np.savetxt(\"cross_validation/c_grid/ki_w_cr_100_c_\" + str(C) + \".txt\", w.T)\n",
    "    prediction = w.T @ X_test\n",
    "    print(\"Spearman: \", spearmanr(np.array(s_test.T)[0], np.array(prediction)[0]))\n",
    "    print(\"Pearson: \", pearsonr(np.array(s_test.T)[0], np.array(prediction)[0]))\n",
    "    pearsons.append(pearsonr(np.array(s_test.T)[0], np.array(prediction)[0])[0])\n",
    "    print(\"R2: \", r2_score(np.array(s_test.T)[0], np.array(prediction)[0]))\n",
    "    Rs.append(r2_score(np.array(s_test.T)[0], np.array(prediction)[0]))\n",
    "    print(\"MSE: \", mean_squared_error(np.array(s_test.T)[0], np.array(prediction)[0]))\n",
    "    MSEs.append(mean_squared_error(np.array(s_test.T)[0], np.array(prediction)[0]))\n",
    "    print()"
   ]
  },
  {
   "cell_type": "code",
   "execution_count": 64,
   "metadata": {
    "collapsed": false
   },
   "outputs": [
    {
     "name": "stdout",
     "output_type": "stream",
     "text": [
      "C = 10\n",
      "Spearman:  SpearmanrResult(correlation=0.70620604013164423, pvalue=1.8788398236755676e-126)\n",
      "Pearson:  (0.69886889003492991, 8.7712281514396056e-123)\n",
      "R2:  0.286293036243\n",
      "MSE:  3.19993148691\n",
      "\n"
     ]
    }
   ],
   "source": [
    "complexes_number = 831\n",
    "poses_number = 19\n",
    "\n",
    "# Матрица признаков (для которых аффинности известны)\n",
    "X_test = np.matrix([\n",
    "    t[1][1]\n",
    "    for t in test\n",
    "]).T\n",
    "\n",
    "# Столбец значений свободной энергии\n",
    "s_test = np.matrix([\n",
    "    float(t[0])\n",
    "    for t in test\n",
    "]).T\n",
    "\n",
    "Cs = [10]\n",
    "cpearsons = []\n",
    "cRs = []\n",
    "cMSEs = []\n",
    "Cr = 100\n",
    "\n",
    "for C in Cs:\n",
    "    print(\"C =\", C)\n",
    "    \n",
    "    with open(\"cross_validation/c_grid/ki_train_cr_100_c_\" + str(C) + \".model\", \"r\") as f:\n",
    "        data = f.read().split(\"\\n\")\n",
    "        \n",
    "#     # Accuracy (poses):\n",
    "#     newW = np.array(data[6:-1], dtype=float).reshape((6440, 1))\n",
    "#     predicted_labels = (newW.T @ newX_test.T).tolist()[0]\n",
    "#     y_pred = [\n",
    "#        1 if label > 0 else -1\n",
    "#        for label in predicted_labels\n",
    "#     ]\n",
    "#     cnt = 0\n",
    "#     for i in range(complexes_number):\n",
    "#        flag = True\n",
    "#        for j in range(poses_number):\n",
    "#            index = i * poses_number + j\n",
    "#            if (y_pred[index] != y_test[index]):\n",
    "#                flag = False\n",
    "#        if flag is True:\n",
    "#            cnt += 1\n",
    "#     print(\"Accuracy: \", cnt / complexes_number)\n",
    "    \n",
    "    # Tests (affinities)\n",
    "    newW = np.array(data[6:-1], dtype=float).reshape((7685, 1))\n",
    "    w = A_inv @ (newW + B)\n",
    "    w = w[:6440]\n",
    "    np.savetxt(\"cross_validation/c_grid/ki_w_cr_100_c_\" + str(C) + \".txt\", w.T)\n",
    "    prediction = w.T @ X_test\n",
    "    print(\"Spearman: \", spearmanr(np.array(s_test.T)[0], np.array(prediction)[0]))\n",
    "    print(\"Pearson: \", pearsonr(np.array(s_test.T)[0], np.array(prediction)[0]))\n",
    "    pearsons.append(pearsonr(np.array(s_test.T)[0], np.array(prediction)[0])[0])\n",
    "    print(\"R2: \", r2_score(np.array(s_test.T)[0], np.array(prediction)[0]))\n",
    "    Rs.append(r2_score(np.array(s_test.T)[0], np.array(prediction)[0]))\n",
    "    print(\"MSE: \", mean_squared_error(np.array(s_test.T)[0], np.array(prediction)[0]))\n",
    "    MSEs.append(mean_squared_error(np.array(s_test.T)[0], np.array(prediction)[0]))\n",
    "    print()"
   ]
  },
  {
   "cell_type": "code",
   "execution_count": null,
   "metadata": {
    "collapsed": true
   },
   "outputs": [],
   "source": []
  }
 ],
 "metadata": {
  "anaconda-cloud": {},
  "kernelspec": {
   "display_name": "Python [Root]",
   "language": "python",
   "name": "Python [Root]"
  },
  "language_info": {
   "codemirror_mode": {
    "name": "ipython",
    "version": 3
   },
   "file_extension": ".py",
   "mimetype": "text/x-python",
   "name": "python",
   "nbconvert_exporter": "python",
   "pygments_lexer": "ipython3",
   "version": "3.5.2"
  }
 },
 "nbformat": 4,
 "nbformat_minor": 0
}
