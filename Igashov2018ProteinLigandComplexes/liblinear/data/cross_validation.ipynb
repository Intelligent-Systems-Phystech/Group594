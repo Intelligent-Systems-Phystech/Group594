{
 "cells": [
  {
   "cell_type": "code",
   "execution_count": 1,
   "metadata": {
    "collapsed": true
   },
   "outputs": [],
   "source": [
    "import array, struct, sys, os, tqdm\n",
    "import numpy as np\n",
    "\n",
    "def read_binaries(path_binfiles):\n",
    "    result = {}\n",
    "    cnt = 0\n",
    "    for binfile in tqdm.tqdm(os.listdir(path_binfiles)):\n",
    "        pdbcode = binfile.split('.')[0]                     # name of file (pdbcode)\n",
    "        F = open('{0}/{1}'.format(path_binfiles, binfile), 'rb')\n",
    "        n_decoys = struct.unpack('i', F.read(4))[0]         # number of decoys (=19 for this dataset)\n",
    "        dimension = struct.unpack('i', F.read(4))[0]        # data dimensionality (23 protein types x 40 ligand types x 7 bins for this dataset)\n",
    "        res = []\n",
    "        for i in range(n_decoys):\n",
    "            label = struct.unpack('d', F.read(8))[0]        # label (1 for native, -1 for non-native)\n",
    "            data = array.array('d')                         \n",
    "            data.fromfile(F, dimension)                     # feature vector (histograms, can be represented as a 23x40x7 matrix) \n",
    "            res.append([label, data])\n",
    "        result[pdbcode] = res\n",
    "        F.close()\n",
    "        if cnt == 13080:\n",
    "            break\n",
    "        cnt += 1\n",
    "    return result"
   ]
  },
  {
   "cell_type": "code",
   "execution_count": 2,
   "metadata": {
    "collapsed": false
   },
   "outputs": [
    {
     "name": "stderr",
     "output_type": "stream",
     "text": [
      "100%|█████████▉| 13076/13089 [01:49<00:00, 119.90it/s]"
     ]
    }
   ],
   "source": [
    "result = read_binaries('../../../../../basic_experiment/general-no2013_t14_t3_l7.0_g1.0_r1.0')"
   ]
  },
  {
   "cell_type": "code",
   "execution_count": 3,
   "metadata": {
    "collapsed": true
   },
   "outputs": [],
   "source": [
    "with open('../../../../../basic_experiment/affinity_data_refined.csv', 'r') as f:\n",
    "    data = f.read().split('\\n')\n",
    "    data = data[1:-1]"
   ]
  },
  {
   "cell_type": "code",
   "execution_count": 4,
   "metadata": {
    "collapsed": true
   },
   "outputs": [],
   "source": [
    "datasets = [\n",
    "    {'name': d.split(',')[0], 'value': d.split(',')[1], 'type': d.split(',')[3]}\n",
    "    for d in data\n",
    "]"
   ]
  },
  {
   "cell_type": "code",
   "execution_count": 5,
   "metadata": {
    "collapsed": true
   },
   "outputs": [],
   "source": [
    "Kd_values = []\n",
    "Ki_values = []\n",
    "for d in datasets:\n",
    "    if d['type'] == 'Kd':\n",
    "        Kd_values.append(d)\n",
    "    else:\n",
    "        Ki_values.append(d)"
   ]
  },
  {
   "cell_type": "code",
   "execution_count": 6,
   "metadata": {
    "collapsed": true
   },
   "outputs": [],
   "source": [
    "Kd_data = []\n",
    "for item in Kd_values:\n",
    "    Kd_data.append([item['value']] + result[item['name']])"
   ]
  },
  {
   "cell_type": "code",
   "execution_count": 7,
   "metadata": {
    "collapsed": false
   },
   "outputs": [],
   "source": [
    "Ki_data = []\n",
    "for item in Ki_values:\n",
    "    if item['name'] != '966c':\n",
    "        Ki_data.append([item['value']] + result[item['name']])"
   ]
  },
  {
   "cell_type": "markdown",
   "metadata": {},
   "source": [
    "# Кросс-валидация по Cr"
   ]
  },
  {
   "cell_type": "code",
   "execution_count": 8,
   "metadata": {
    "collapsed": true
   },
   "outputs": [],
   "source": [
    "import time\n",
    "import numpy as np\n",
    "from math import log, exp\n",
    "from scipy.linalg import sqrtm, inv, norm\n",
    "from scipy.optimize import minimize"
   ]
  },
  {
   "cell_type": "code",
   "execution_count": 9,
   "metadata": {
    "collapsed": false
   },
   "outputs": [
    {
     "name": "stderr",
     "output_type": "stream",
     "text": [
      "\r",
      "100%|█████████▉| 13076/13089 [02:00<00:00, 108.94it/s]"
     ]
    }
   ],
   "source": [
    "data = Ki_data\n",
    "train = data[:int(len(data) * 0.6)]\n",
    "test = data[int(len(data) * 0.6):]"
   ]
  },
  {
   "cell_type": "code",
   "execution_count": 10,
   "metadata": {
    "collapsed": false
   },
   "outputs": [],
   "source": [
    "# Матрица признаков (для которых аффинности известны)\n",
    "X_nat_train = []\n",
    "for i, t in enumerate(train):\n",
    "    additional = np.zeros(len(train))\n",
    "    additional[i] = -1\n",
    "    X_nat_train.append(np.append(t[1][1], additional))\n",
    "X_nat_train = np.matrix(X_nat_train).T\n",
    "\n",
    "# Столбец значений свободной энергии\n",
    "s_train = np.matrix([\n",
    "    float(t[0])\n",
    "    for t in train\n",
    "]).T"
   ]
  },
  {
   "cell_type": "code",
   "execution_count": 11,
   "metadata": {
    "collapsed": false
   },
   "outputs": [
    {
     "name": "stdout",
     "output_type": "stream",
     "text": [
      "(7685, 23655)\n"
     ]
    }
   ],
   "source": [
    "X_train = []\n",
    "for i, t in enumerate(train):\n",
    "    additional = np.zeros(len(train))\n",
    "    additional[i] = -1\n",
    "    for pose in t[1:]:\n",
    "        X_train.append(np.append(pose[1], additional))\n",
    "        \n",
    "X_train = np.matrix(X_train).T\n",
    "print(X_train.shape)\n",
    "\n",
    "y_train = []\n",
    "for t in train:\n",
    "    for pose in t[1:]:\n",
    "        y_train.append(pose[0])\n",
    "\n",
    "y_train = np.matrix(y_train).T"
   ]
  },
  {
   "cell_type": "code",
   "execution_count": 12,
   "metadata": {
    "collapsed": true
   },
   "outputs": [],
   "source": [
    "X_test = []\n",
    "for t in test:\n",
    "    for pose in t[1:]:\n",
    "        X_test.append(pose[1])\n",
    "        \n",
    "X_test = np.matrix(X_test).T\n",
    "\n",
    "y_test = []\n",
    "for t in test:\n",
    "    for pose in t[1:]:\n",
    "        y_test.append(pose[0])\n",
    "\n",
    "y_test = np.matrix(y_test).T"
   ]
  },
  {
   "cell_type": "code",
   "execution_count": null,
   "metadata": {
    "collapsed": false
   },
   "outputs": [],
   "source": [
    "for Cr in [0.001, 0.01, 0.1, 1, 10, 100, 1000, 10000]:\n",
    "    # Замена переменных\n",
    "    XXT = X_nat_train @ X_nat_train.T\n",
    "    I = np.identity(XXT.shape[0])\n",
    "    A = np.real(sqrtm(0.5 * I + Cr * XXT))\n",
    "    A_inv = inv(A)\n",
    "    B = Cr * A_inv @ X_nat_train @ s_train\n",
    "    np.savetxt(\"cross_validation/A_inv_cr_\" + str(Cr), A_inv)\n",
    "    newX_train = (A_inv.T @ X_train).T\n",
    "    \n",
    "    # Запись обучающей выборки в файл\n",
    "    with open(\"cross_validation/ki_train_cr_\" + str(Cr), \"w\") as f:\n",
    "        for i in range(newX_train.shape[0]):\n",
    "            y_i = (\"+1 \" if y_train[i] == 1 else \"-1 \")\n",
    "            f.write(y_i)\n",
    "            for j in range(newX_train.shape[1]):\n",
    "                f.write(str(j + 1) + \":\" + str(newX_train[i,j]) + \" \")\n",
    "            f.write(\"\\n\")\n",
    "            \n",
    "    print(Cr, \"done\")"
   ]
  },
  {
   "cell_type": "markdown",
   "metadata": {
    "collapsed": true
   },
   "source": [
    "# Accuracy"
   ]
  },
  {
   "cell_type": "code",
   "execution_count": 93,
   "metadata": {
    "collapsed": true
   },
   "outputs": [],
   "source": [
    "from scipy.stats import spearmanr, pearsonr\n",
    "from sklearn.metrics import r2_score\n",
    "from sklearn.metrics import mean_squared_error"
   ]
  },
  {
   "cell_type": "code",
   "execution_count": 95,
   "metadata": {
    "collapsed": false
   },
   "outputs": [
    {
     "name": "stdout",
     "output_type": "stream",
     "text": [
      "Cr = 1000\n",
      "Spearman:  SpearmanrResult(correlation=0.61146242811614826, pvalue=2.333700456950958e-86)\n",
      "Pearson:  (0.59015842434259658, 3.9534057926477655e-79)\n",
      "R2:  -0.0166404880756\n",
      "MSE:  4.55814511258\n",
      "\n"
     ]
    }
   ],
   "source": [
    "complexes_number = 831\n",
    "poses_number = 19\n",
    "\n",
    "# Матрица признаков (для которых аффинности известны)\n",
    "X_test = np.matrix([\n",
    "    t[1][1]\n",
    "    for t in test\n",
    "]).T\n",
    "\n",
    "# Столбец значений свободной энергии\n",
    "s_test = np.matrix([\n",
    "    float(t[0])\n",
    "    for t in test\n",
    "]).T\n",
    "\n",
    "for Cr in [1000]:\n",
    "    print(\"Cr =\", Cr)\n",
    "    \n",
    "    with open(\"cross_validation/ki_train_cr_\" + str(Cr) + \".model\", \"r\") as f:\n",
    "        data = f.read().split(\"\\n\")\n",
    "        \n",
    "    # Tests (affinities)\n",
    "    newW = np.array(data[6:-1], dtype=float).reshape((7685, 1))\n",
    "    A_inv = np.loadtxt(\"cross_validation/A_inv_cr_\" + str(Cr))\n",
    "    B = Cr * A_inv @ X_nat_train @ s_train\n",
    "    w = A_inv @ (newW + B)\n",
    "    w = w[:6440]\n",
    "    np.savetxt(\"cross_validation/ki_w_cr_\" + str(Cr) + \".txt\", w.T)\n",
    "    prediction = w.T @ X_test\n",
    "    print(\"Spearman: \", spearmanr(np.array(s_test.T)[0], np.array(prediction)[0]))\n",
    "    print(\"Pearson: \", pearsonr(np.array(s_test.T)[0], np.array(prediction)[0]))\n",
    "#     pearsons.append(pearsonr(np.array(s_test.T)[0], np.array(prediction)[0])[0])\n",
    "    print(\"R2: \", r2_score(np.array(s_test.T)[0], np.array(prediction)[0]))\n",
    "#     Rs.append(r2_score(np.array(s_test.T)[0], np.array(prediction)[0]))\n",
    "    print(\"MSE: \", mean_squared_error(np.array(s_test.T)[0], np.array(prediction)[0]))\n",
    "#     MSEs.append(mean_squared_error(np.array(s_test.T)[0], np.array(prediction)[0]))\n",
    "    print()"
   ]
  },
  {
   "cell_type": "code",
   "execution_count": 26,
   "metadata": {
    "collapsed": false
   },
   "outputs": [
    {
     "name": "stdout",
     "output_type": "stream",
     "text": [
      "Cr = 0.001\n",
      "Spearman:  SpearmanrResult(correlation=0.30471902323731476, pvalue=2.5758836373209146e-19)\n",
      "Pearson:  (0.35866623651020552, 1.2473272021408322e-26)\n",
      "R2:  -11.0861992504\n",
      "MSE:  54.1889199662\n",
      "\n",
      "Cr = 0.5\n",
      "Spearman:  SpearmanrResult(correlation=0.6076840180397568, pvalue=4.90090190471438e-85)\n",
      "Pearson:  (0.59180224546894356, 1.1436594187101856e-79)\n",
      "R2:  -0.552718184241\n",
      "MSE:  6.96166922892\n",
      "\n",
      "Cr = 1\n",
      "Spearman:  SpearmanrResult(correlation=0.63102411423000182, pvalue=1.6872998537515098e-93)\n",
      "Pearson:  (0.61666435557832411, 3.29722571976743e-88)\n",
      "R2:  -0.32235431452\n",
      "MSE:  5.92882432534\n",
      "\n",
      "Cr = 10\n",
      "Spearman:  SpearmanrResult(correlation=0.67918124836364113, pvalue=1.8094526009438593e-113)\n",
      "Pearson:  (0.67283646653283347, 1.274999890647994e-110)\n",
      "R2:  0.157731149343\n",
      "MSE:  3.776343447\n",
      "\n",
      "Cr = 50\n",
      "Spearman:  SpearmanrResult(correlation=0.69020876714633739, pvalue=1.3564550163312283e-118)\n",
      "Pearson:  (0.6833987058058153, 2.1099808037095246e-115)\n",
      "R2:  0.330855081718\n",
      "MSE:  3.00013591299\n",
      "\n",
      "Cr = 100\n",
      "Spearman:  SpearmanrResult(correlation=0.69166226720519497, pvalue=2.7519435180374767e-119)\n",
      "Pearson:  (0.68399876227528145, 1.1131347687781776e-115)\n",
      "R2:  0.349571970825\n",
      "MSE:  2.91621805057\n",
      "\n",
      "Cr = 500\n",
      "Spearman:  SpearmanrResult(correlation=0.68973836490450724, pvalue=2.2684510413901558e-118)\n",
      "Pearson:  (0.68217637168219369, 7.7260497585789012e-115)\n",
      "R2:  0.34010121552\n",
      "MSE:  2.95868053118\n",
      "\n",
      "Cr = 1000\n",
      "Spearman:  SpearmanrResult(correlation=0.68289466576754509, pvalue=3.6062154966519416e-115)\n",
      "Pearson:  (0.67661990428300312, 2.6054099312876765e-112)\n",
      "R2:  0.314184450197\n",
      "MSE:  3.07487930407\n",
      "\n",
      "Cr = 10000\n",
      "Spearman:  SpearmanrResult(correlation=0.62795774823164696, pvalue=2.4008935309193974e-92)\n",
      "Pearson:  (0.62092408268416344, 9.4907539987315086e-90)\n",
      "R2:  0.0614846717631\n",
      "MSE:  4.20786807791\n",
      "\n"
     ]
    }
   ],
   "source": [
    "complexes_number = 831\n",
    "poses_number = 19\n",
    "\n",
    "# Матрица признаков (для которых аффинности известны)\n",
    "X_test = np.matrix([\n",
    "    t[1][1]\n",
    "    for t in test\n",
    "]).T\n",
    "\n",
    "# Столбец значений свободной энергии\n",
    "s_test = np.matrix([\n",
    "    float(t[0])\n",
    "    for t in test\n",
    "]).T\n",
    "\n",
    "Crs = [0.001, 0.5, 1, 10, 50, 100, 500, 1000, 10000]\n",
    "pearsons = []\n",
    "Rs = []\n",
    "MSEs = []\n",
    "\n",
    "for Cr in Crs:\n",
    "    print(\"Cr =\", Cr)\n",
    "    \n",
    "    with open(\"cross_validation/ki_train_cr_\" + str(Cr) + \".model\", \"r\") as f:\n",
    "        data = f.read().split(\"\\n\")\n",
    "        \n",
    "#     # Accuracy (poses):\n",
    "#     newW = np.array(data[6:-1], dtype=float).reshape((6440, 1))\n",
    "#     predicted_labels = (newW.T @ newX_test.T).tolist()[0]\n",
    "#     y_pred = [\n",
    "#        1 if label > 0 else -1\n",
    "#        for label in predicted_labels\n",
    "#     ]\n",
    "#     cnt = 0\n",
    "#     for i in range(complexes_number):\n",
    "#        flag = True\n",
    "#        for j in range(poses_number):\n",
    "#            index = i * poses_number + j\n",
    "#            if (y_pred[index] != y_test[index]):\n",
    "#                flag = False\n",
    "#        if flag is True:\n",
    "#            cnt += 1\n",
    "#     print(\"Accuracy: \", cnt / complexes_number)\n",
    "    \n",
    "    # Tests (affinities)\n",
    "    newW = np.array(data[6:-1], dtype=float).reshape((6440, 1))\n",
    "    A_inv = np.loadtxt(\"cross_validation/A_inv_cr_\" + str(Cr))\n",
    "    B = Cr * A_inv @ X_nat_train @ s_train\n",
    "    w = A_inv @ (newW + B)\n",
    "    np.savetxt(\"cross_validation/ki_w_cr_\" + str(Cr) + \".txt\", w.T)\n",
    "    prediction = w.T @ X_test\n",
    "    print(\"Spearman: \", spearmanr(np.array(s_test.T)[0], np.array(prediction)[0]))\n",
    "    print(\"Pearson: \", pearsonr(np.array(s_test.T)[0], np.array(prediction)[0]))\n",
    "    pearsons.append(pearsonr(np.array(s_test.T)[0], np.array(prediction)[0])[0])\n",
    "    print(\"R2: \", r2_score(np.array(s_test.T)[0], np.array(prediction)[0]))\n",
    "    Rs.append(r2_score(np.array(s_test.T)[0], np.array(prediction)[0]))\n",
    "    print(\"MSE: \", mean_squared_error(np.array(s_test.T)[0], np.array(prediction)[0]))\n",
    "    MSEs.append(mean_squared_error(np.array(s_test.T)[0], np.array(prediction)[0]))\n",
    "    print()"
   ]
  },
  {
   "cell_type": "code",
   "execution_count": 43,
   "metadata": {
    "collapsed": false
   },
   "outputs": [
    {
     "name": "stdout",
     "output_type": "stream",
     "text": [
      "Using matplotlib backend: MacOSX\n"
     ]
    }
   ],
   "source": [
    "import matplotlib.pyplot as plt\n",
    "%matplotlib auto"
   ]
  },
  {
   "cell_type": "code",
   "execution_count": 55,
   "metadata": {
    "collapsed": false
   },
   "outputs": [],
   "source": [
    "plt.plot(np.log(np.array(Crs)), pearsons, label=\"Pearson\")\n",
    "plt.xlabel(r\"$\\ln({C_r})$\")\n",
    "plt.ylabel(r\"Pearson's correlation\")\n",
    "plt.show()"
   ]
  },
  {
   "cell_type": "code",
   "execution_count": 56,
   "metadata": {
    "collapsed": false
   },
   "outputs": [],
   "source": [
    "plt.plot(np.log(np.array(Crs)), Rs, label=\"R^2\")\n",
    "plt.xlabel(r\"$\\ln({C_r})$\")\n",
    "plt.ylabel(r\"$R^2$\")\n",
    "plt.show()"
   ]
  },
  {
   "cell_type": "code",
   "execution_count": 58,
   "metadata": {
    "collapsed": false
   },
   "outputs": [],
   "source": [
    "plt.plot(np.log(np.array(Crs)), MSEs, label=\"MSE\")\n",
    "plt.xlabel(r\"$\\ln({C_r})$\")\n",
    "plt.ylabel(r\"$MSE$\")\n",
    "plt.show()"
   ]
  },
  {
   "cell_type": "code",
   "execution_count": null,
   "metadata": {
    "collapsed": true
   },
   "outputs": [],
   "source": []
  }
 ],
 "metadata": {
  "anaconda-cloud": {},
  "kernelspec": {
   "display_name": "Python [Root]",
   "language": "python",
   "name": "Python [Root]"
  },
  "language_info": {
   "codemirror_mode": {
    "name": "ipython",
    "version": 3
   },
   "file_extension": ".py",
   "mimetype": "text/x-python",
   "name": "python",
   "nbconvert_exporter": "python",
   "pygments_lexer": "ipython3",
   "version": "3.5.2"
  }
 },
 "nbformat": 4,
 "nbformat_minor": 0
}
