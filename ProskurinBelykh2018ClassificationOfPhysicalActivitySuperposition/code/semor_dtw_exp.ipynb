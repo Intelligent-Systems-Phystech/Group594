{
 "cells": [
  {
   "cell_type": "code",
   "execution_count": 1,
   "metadata": {
    "collapsed": true
   },
   "outputs": [],
   "source": [
    "import matplotlib.pyplot as plt\n",
    "import numpy as np"
   ]
  },
  {
   "cell_type": "code",
   "execution_count": 2,
   "metadata": {
    "collapsed": true
   },
   "outputs": [],
   "source": [
    "def semor2(a, b):\n",
    "    dst = np.zeros((len(a), len(b)))\n",
    "    ind = np.zeros((len(a), len(b)))\n",
    "    \n",
    "    for i in range(len(a) - 1, -1, -1):\n",
    "        for j in range(len(b) - 1, -1, -1):\n",
    "            cur = 1e9\n",
    "            \n",
    "            if (i != len(a) - 1):\n",
    "                cur = dst[i + 1][j]\n",
    "                ind[i][j] = 0\n",
    "                \n",
    "            if (j != len(b) - 1 and cur > dst[i][j + 1]):\n",
    "                cur = dst[i][j + 1]\n",
    "                ind[i][j] = 1\n",
    "                \n",
    "            if (i == len(a) - 1 and j == len(b) - 1):\n",
    "                cur = 0\n",
    "                \n",
    "            if (i != len(a) - 1 and j != len(b) - 1 and cur > dst[i + 1][j + 1]):\n",
    "                cur = dst[i + 1][j + 1]\n",
    "                ind[i][j] = 2\n",
    "                \n",
    "            cur += np.power(a[i] - b[j], 2)\n",
    "            \n",
    "            dst[i][j] = cur\n",
    "    \n",
    "    pos = []\n",
    "    x = 0\n",
    "    y = 0\n",
    "    \n",
    "    while (x != len(a) - 1 or y != len(b) - 1):\n",
    "        pos.append((x, y))\n",
    "        \n",
    "        if (ind[x][y] == 0):\n",
    "            x += 1\n",
    "        elif (ind[x][y] == 1):\n",
    "            y += 1\n",
    "        else:\n",
    "            x += 1\n",
    "            y += 1\n",
    "            \n",
    "    pos.append((x, y))\n",
    "    \n",
    "    return (np.array(pos), dst[0][0])\n",
    "\n",
    "def pol_dist2(a, b):\n",
    "    a = a * 1.\n",
    "    a -= np.mean(a)\n",
    "    a = a / np.std(a)\n",
    "    b = b * 1.\n",
    "    b -= np.mean(b)\n",
    "    b = b / np.std(b)\n",
    "    pos, d = semor2(a, b)\n",
    "    x = a[pos[:,0]]\n",
    "    y = b[pos[:,1]]\n",
    "    k, e = np.polyfit(y, x, 1)\n",
    "    \n",
    "    return np.sum(np.power(x - k * y - e, 2))"
   ]
  },
  {
   "cell_type": "code",
   "execution_count": 3,
   "metadata": {
    "collapsed": true
   },
   "outputs": [],
   "source": [
    "def semor3(a, b, c):\n",
    "    dst = np.zeros((len(a), len(b), len(c)))\n",
    "    ind = np.zeros((len(a), len(b), len(c)))\n",
    "    \n",
    "    for i in range(len(a) - 1, -1, -1):\n",
    "        for j in range(len(b) - 1, -1, -1):\n",
    "            for k in range(len(c) - 1, -1, -1):\n",
    "                cur = 1e9\n",
    "\n",
    "                if (i != len(a) - 1):\n",
    "                    cur = dst[i + 1][j][k]\n",
    "                    ind[i][j][k] = 0\n",
    "\n",
    "                if (j != len(b) - 1 and cur > dst[i][j + 1][k]):\n",
    "                    cur = dst[i][j + 1][k]\n",
    "                    ind[i][j][k] = 1\n",
    "\n",
    "                if (i == len(a) - 1 and j == len(b) - 1 and k == len(c) - 1):\n",
    "                    cur = 0\n",
    "\n",
    "                if (i != len(a) - 1 and j != len(b) - 1 and cur > dst[i + 1][j + 1][k]):\n",
    "                    cur = dst[i + 1][j + 1][k]\n",
    "                    ind[i][j][k] = 2\n",
    "                    \n",
    "                if (k != len(c) - 1 and cur > dst[i][j][k + 1]):\n",
    "                    cur = dst[i][j][k + 1]\n",
    "                    ind[i][j][k] = 3\n",
    "                    \n",
    "                if (i != len(a) - 1 and k != len(c) - 1 and cur > dst[i + 1][j][k + 1]):\n",
    "                    cur = dst[i + 1][j][k + 1]\n",
    "                    ind[i][j][k] = 4\n",
    "                    \n",
    "                if (j != len(b) - 1 and k != len(c) - 1 and cur > dst[i][j + 1][k + 1]):\n",
    "                    cur = dst[i][j + 1][k + 1]\n",
    "                    ind[i][j][k] = 5\n",
    "                \n",
    "                if (i != len(a) - 1 and j != len(b) - 1 and k != len(c) - 1 and cur > dst[i + 1][j + 1][k + 1]):\n",
    "                    cur = dst[i + 1][j + 1][k + 1]\n",
    "                    ind[i][j][k] = 6\n",
    "\n",
    "                cur += np.power(a[i] - b[j] - c[k], 2)\n",
    "\n",
    "                dst[i][j][k] = cur\n",
    "    \n",
    "    pos = []\n",
    "    x = 0\n",
    "    y = 0\n",
    "    z = 0\n",
    "    \n",
    "    while (x != len(a) - 1 or y != len(b) - 1 or z != len(c) - 1):\n",
    "        pos.append((x, y, z))\n",
    "        \n",
    "        if (ind[x][y][z] == 0):\n",
    "            x += 1\n",
    "        elif (ind[x][y][z] == 1):\n",
    "            y += 1\n",
    "        elif (ind[x][y][z] == 2):\n",
    "            x += 1\n",
    "            y += 1\n",
    "        elif (ind[x][y][z] == 3):\n",
    "            z += 1\n",
    "        elif (ind[x][y][z] == 4):\n",
    "            x += 1\n",
    "            z += 1\n",
    "        elif (ind[x][y][z] == 5):\n",
    "            y += 1\n",
    "            z += 1\n",
    "        else:\n",
    "            x += 1\n",
    "            y += 1\n",
    "            z += 1\n",
    "            \n",
    "    pos.append((x, y, z))\n",
    "    \n",
    "    return (np.array(pos), dst[0][0][0])\n",
    "\n",
    "def pol_dist3(a, b, c):\n",
    "    pos, d = semor3(a, b, c)\n",
    "    #return d\n",
    "    x = a[pos[:,0]]\n",
    "    y = b[pos[:,1]]\n",
    "    z = c[pos[:,2]]\n",
    "    k, e = np.polyfit(y + z, x, 1)\n",
    "    \n",
    "    return np.mean(np.power(x - k * (y + z) - e, 2))"
   ]
  },
  {
   "cell_type": "code",
   "execution_count": 7,
   "metadata": {
    "collapsed": false
   },
   "outputs": [
    {
     "name": "stderr",
     "output_type": "stream",
     "text": [
      "100%|██████████| 16/16 [02:21<00:00,  8.83s/it]\n",
      "  0%|          | 0/16 [00:00<?, ?it/s]"
     ]
    },
    {
     "name": "stdout",
     "output_type": "stream",
     "text": [
      "Acc =  0.875\n"
     ]
    },
    {
     "name": "stderr",
     "output_type": "stream",
     "text": [
      "100%|██████████| 16/16 [02:26<00:00,  9.14s/it]\n",
      "  0%|          | 0/16 [00:00<?, ?it/s]"
     ]
    },
    {
     "name": "stdout",
     "output_type": "stream",
     "text": [
      "Acc =  0.90625\n"
     ]
    },
    {
     "name": "stderr",
     "output_type": "stream",
     "text": [
      "100%|██████████| 16/16 [02:19<00:00,  8.72s/it]\n",
      "  0%|          | 0/16 [00:00<?, ?it/s]"
     ]
    },
    {
     "name": "stdout",
     "output_type": "stream",
     "text": [
      "Acc =  0.875\n"
     ]
    },
    {
     "name": "stderr",
     "output_type": "stream",
     "text": [
      "100%|██████████| 16/16 [02:15<00:00,  8.48s/it]\n",
      "  0%|          | 0/16 [00:00<?, ?it/s]"
     ]
    },
    {
     "name": "stdout",
     "output_type": "stream",
     "text": [
      "Acc =  0.859375\n"
     ]
    },
    {
     "name": "stderr",
     "output_type": "stream",
     "text": [
      "100%|██████████| 16/16 [02:32<00:00,  9.55s/it]\n",
      "  0%|          | 0/16 [00:00<?, ?it/s]"
     ]
    },
    {
     "name": "stdout",
     "output_type": "stream",
     "text": [
      "Acc =  0.85\n"
     ]
    },
    {
     "name": "stderr",
     "output_type": "stream",
     "text": [
      "100%|██████████| 16/16 [02:28<00:00,  9.27s/it]\n",
      "  0%|          | 0/16 [00:00<?, ?it/s]"
     ]
    },
    {
     "name": "stdout",
     "output_type": "stream",
     "text": [
      "Acc =  0.8541666666666666\n"
     ]
    },
    {
     "name": "stderr",
     "output_type": "stream",
     "text": [
      "100%|██████████| 16/16 [02:31<00:00,  9.45s/it]\n",
      "  0%|          | 0/16 [00:00<?, ?it/s]"
     ]
    },
    {
     "name": "stdout",
     "output_type": "stream",
     "text": [
      "Acc =  0.8571428571428571\n"
     ]
    },
    {
     "name": "stderr",
     "output_type": "stream",
     "text": [
      "100%|██████████| 16/16 [02:25<00:00,  9.11s/it]\n",
      "  0%|          | 0/16 [00:00<?, ?it/s]"
     ]
    },
    {
     "name": "stdout",
     "output_type": "stream",
     "text": [
      "Acc =  0.8515625\n"
     ]
    },
    {
     "name": "stderr",
     "output_type": "stream",
     "text": [
      "100%|██████████| 16/16 [02:23<00:00,  8.97s/it]\n",
      "  0%|          | 0/16 [00:00<?, ?it/s]"
     ]
    },
    {
     "name": "stdout",
     "output_type": "stream",
     "text": [
      "Acc =  0.8333333333333334\n"
     ]
    },
    {
     "name": "stderr",
     "output_type": "stream",
     "text": [
      "100%|██████████| 16/16 [02:27<00:00,  9.25s/it]"
     ]
    },
    {
     "name": "stdout",
     "output_type": "stream",
     "text": [
      "Acc =  0.8375\n"
     ]
    },
    {
     "name": "stderr",
     "output_type": "stream",
     "text": [
      "\n"
     ]
    }
   ],
   "source": [
    "from tqdm import tqdm\n",
    "numb = 0\n",
    "\n",
    "for p in range(10):\n",
    "    grid = np.random.rand(10) * 10 + 10\n",
    "    a = [grid / 8, np.sin(grid), np.log(grid), np.exp(grid / 10)]\n",
    "\n",
    "    b = [np.cos(grid), np.sin(np.log(grid)), np.sin(grid * 2), np.tan(grid / 5) * 2]\n",
    "    c = []\n",
    "\n",
    "    for i in range(len(a)):\n",
    "        for j in range(len(b)):\n",
    "            c.append(a[i] + b[j])\n",
    "\n",
    "            c[-1] = np.concatenate((c[-1], c[-1], c[-1], c[-1], c[-1]))\n",
    "\n",
    "\n",
    "    for i in range(len(a)):\n",
    "        a[i] = np.concatenate((a[i], a[i], a[i], a[i]))\n",
    "        b[i] = np.concatenate((b[i], b[i], b[i], b[i]))\n",
    "\n",
    "    for k in tqdm(range(len(c))):\n",
    "        i1 = 0\n",
    "        i2 = 0\n",
    "        best = 1e9\n",
    "\n",
    "        for i in range(len(a)):\n",
    "            for j in range(len(b)):\n",
    "                cur = pol_dist3(c[k], a[i], b[j])\n",
    "                if (cur < best):\n",
    "                    best = cur\n",
    "                    i1 = i\n",
    "                    i2 = j\n",
    "\n",
    "        if (i1 * 4 + i2 == k):\n",
    "            numb += 1\n",
    "            \n",
    "    print(\"Acc = \", numb / 16 / (p + 1))"
   ]
  }
 ],
 "metadata": {
  "kernelspec": {
   "display_name": "Python 3",
   "language": "python",
   "name": "python3"
  },
  "language_info": {
   "codemirror_mode": {
    "name": "ipython",
    "version": 3
   },
   "file_extension": ".py",
   "mimetype": "text/x-python",
   "name": "python",
   "nbconvert_exporter": "python",
   "pygments_lexer": "ipython3",
   "version": "3.6.0"
  }
 },
 "nbformat": 4,
 "nbformat_minor": 2
}
