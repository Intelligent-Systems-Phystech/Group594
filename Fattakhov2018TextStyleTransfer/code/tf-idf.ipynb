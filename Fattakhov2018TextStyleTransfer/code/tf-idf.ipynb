{
 "cells": [
  {
   "cell_type": "code",
   "execution_count": 2,
   "metadata": {},
   "outputs": [
    {
     "name": "stdout",
     "output_type": "stream",
     "text": [
      "Populating the interactive namespace from numpy and matplotlib\n"
     ]
    }
   ],
   "source": [
    "import numpy as np\n",
    "import pandas as pd\n",
    "\n",
    "\n",
    "from sklearn.cross_validation import cross_val_score\n",
    "\n",
    "import lightgbm as lgbm\n",
    "\n",
    "from sklearn.preprocessing import StandardScaler\n",
    "from sklearn.model_selection import StratifiedKFold\n",
    "from sklearn.feature_extraction.text import TfidfVectorizer, CountVectorizer, HashingVectorizer,TfidfTransformer\n",
    "from sklearn import pipeline, preprocessing, feature_extraction\n",
    "from sklearn.metrics import accuracy_score\n",
    "from sklearn.linear_model import SGDClassifier\n",
    "import xgboost as xgb\n",
    "from sklearn.ensemble import RandomForestClassifier\n",
    "from sklearn.ensemble import ExtraTreesClassifier\n",
    "import os\n",
    "from sklearn.metrics import accuracy_score\n",
    "\n",
    "%matplotlib inline\n",
    "%pylab inline"
   ]
  },
  {
   "cell_type": "code",
   "execution_count": 3,
   "metadata": {},
   "outputs": [],
   "source": [
    "d = 'data/pan18-style-change-detection-training-dataset-2018-01-31/'\n",
    "train_files = os.listdir(d)\n",
    "\n",
    "truth_files = []\n",
    "text_files = []\n",
    "for i in train_files:\n",
    "    if 'truth' in i:\n",
    "        truth_files += [i]\n",
    "    else:\n",
    "        text_files += [i]\n",
    "        \n",
    "truth_files = np.sort(truth_files)\n",
    "text_files = np.sort(text_files)\n",
    "\n",
    "\n",
    "texts = []\n",
    "truths = []\n",
    "for i, j in zip(text_files, truth_files):\n",
    "    file = open(d+i, 'r') \n",
    "    texts += [file.read()]\n",
    "    \n",
    "    file = open(d+j, 'r') \n",
    "    truths += [file.read()]\n",
    "    \n",
    "df = pd.DataFrame(texts)\n",
    "df.columns = ['text']\n",
    "df['coord'] = truths\n",
    "df['coord'] = df['coord'].apply(lambda x: x.split('[')[1].split(']')[0])\n",
    "\n",
    "\n",
    "d = 'data/pan18-style-change-detection-validation-dataset-2018-01-31/'\n",
    "train_files = os.listdir(d)\n",
    "\n",
    "truth_files = []\n",
    "text_files = []\n",
    "for i in train_files:\n",
    "    if 'truth' in i:\n",
    "        truth_files += [i]\n",
    "    else:\n",
    "        text_files += [i]\n",
    "        \n",
    "truth_files = np.sort(truth_files)\n",
    "text_files = np.sort(text_files)\n",
    "\n",
    "\n",
    "texts = []\n",
    "truths = []\n",
    "for i, j in zip(text_files, truth_files):\n",
    "    file = open(d+i, 'r') \n",
    "    texts += [file.read()]\n",
    "    \n",
    "    file = open(d+j, 'r') \n",
    "    truths += [file.read()]\n",
    "    \n",
    "df_val = pd.DataFrame(texts)\n",
    "df_val.columns = ['text']\n",
    "df_val['coord'] = truths\n",
    "df_val['coord'] = df_val['coord'].apply(lambda x: x.split('[')[1].split(']')[0])\n",
    "\n",
    "\n",
    "df = pd.concat([df, df_val], axis=0)\n",
    "df.index = range(len(df))\n",
    "y = df['coord'].apply(lambda x: len(x) > 0)"
   ]
  },
  {
   "cell_type": "code",
   "execution_count": 4,
   "metadata": {},
   "outputs": [
    {
     "name": "stderr",
     "output_type": "stream",
     "text": [
      "/usr/local/lib/python3.5/dist-packages/ipykernel_launcher.py:7: DeprecationWarning: \n",
      ".ix is deprecated. Please use\n",
      ".loc for label based indexing or\n",
      ".iloc for positional indexing\n",
      "\n",
      "See the documentation here:\n",
      "http://pandas.pydata.org/pandas-docs/stable/indexing.html#ix-indexer-is-deprecated\n",
      "  import sys\n"
     ]
    }
   ],
   "source": [
    "skf = StratifiedKFold(5, shuffle=True, random_state=1)\n",
    "folds = []\n",
    "fold_id = 0\n",
    "df['fold_id'] = np.nan\n",
    "for itr, ite in skf.split(df, y):\n",
    "    folds += [[itr, ite]]\n",
    "    df.ix[ite, 'fold_id'] = fold_id\n",
    "    fold_id += 1"
   ]
  },
  {
   "cell_type": "code",
   "execution_count": 16,
   "metadata": {},
   "outputs": [],
   "source": [
    "bigram_vectorizer = CountVectorizer(analyzer='char', ngram_range=(2,6), max_features = 10000 , encoding='utf8')\n",
    "\n",
    "for_tf_idf = bigram_vectorizer.fit_transform(df['text'].apply(str.lower).tolist())\n",
    "\n",
    "tfidf_sparse = TfidfTransformer().fit_transform(for_tf_idf)\n",
    "\n",
    "tfidf = pd.DataFrame(tfidf_sparse.toarray() , index=df.index, columns=['text_tf_idf_' + str(i) for i in range(tfidf_sparse.shape[1])])\n"
   ]
  },
  {
   "cell_type": "code",
   "execution_count": 5,
   "metadata": {},
   "outputs": [],
   "source": [
    "bigram_vectorizer = CountVectorizer(analyzer='word', ngram_range=(2,4), max_features = 4000 , encoding='utf8')\n",
    "\n",
    "for_tf_idf = bigram_vectorizer.fit_transform(df['text'].apply(str.lower).tolist())\n",
    "\n",
    "tfidf_sparse = TfidfTransformer().fit_transform(for_tf_idf)\n",
    "\n",
    "tfidf = pd.DataFrame(tfidf_sparse.toarray() , index=df.index, columns=['text_tf_idf_' + str(i) for i in range(tfidf_sparse.shape[1])])\n"
   ]
  },
  {
   "cell_type": "code",
   "execution_count": 6,
   "metadata": {},
   "outputs": [
    {
     "data": {
      "text/plain": [
       "(4472, 4000)"
      ]
     },
     "execution_count": 6,
     "metadata": {},
     "output_type": "execute_result"
    }
   ],
   "source": [
    "tfidf.shape"
   ]
  },
  {
   "cell_type": "code",
   "execution_count": 17,
   "metadata": {},
   "outputs": [],
   "source": [
    "from sklearn.preprocessing import MinMaxScaler\n",
    "saf_df = pd.read_csv('data/saf_feat.csv')\n",
    "saf_df = pd.DataFrame(MinMaxScaler().fit_transform(saf_df) )"
   ]
  },
  {
   "cell_type": "code",
   "execution_count": 18,
   "metadata": {},
   "outputs": [],
   "source": [
    "t = pd.concat([tfidf, saf_df],axis=1)"
   ]
  },
  {
   "cell_type": "code",
   "execution_count": 21,
   "metadata": {},
   "outputs": [
    {
     "name": "stdout",
     "output_type": "stream",
     "text": [
      "0.6551883589006071  +- 0.012922912910352065\n"
     ]
    }
   ],
   "source": [
    "\n",
    "from sklearn.linear_model import LogisticRegression\n",
    "\n",
    "#LGBM\n",
    "params = {\n",
    "    #'task': 'train',\n",
    "    #'boosting_type': 'gbdt',\n",
    "    #'objective': 'regression',\n",
    "    #'application': 'multiclass',\n",
    "    'objective':'binary',\n",
    "    #'num_leaves': 31,\n",
    "    #'feature_fraction': 0.9,\n",
    "    #'bagging_fraction': 0.8,\n",
    "    #'bagging_freq': 5,\n",
    "    'subsample': 0.8,\n",
    "    #'colsample_bytree': 0.8,\n",
    "    #'objective': 'multiclass',\n",
    "    'nthread': -1,\n",
    "    'learning_rate': 0.03,\n",
    "    #'min_child_weight': 50,\n",
    "    'max_depth': 10\n",
    "    #'num_class': 2302,\n",
    "    #'feature_fraction':0.2,\n",
    "    #'bagging_fraction':0.5\n",
    "    \n",
    "}\n",
    "\n",
    "\n",
    "pred_train = np.zeros(len(df))\n",
    "scores = []\n",
    "for itr, ite in tqdm(folds):\n",
    "    train = t.ix[itr,:]\n",
    "    val = t.ix[ite,:]\n",
    "    y_train = y[itr]\n",
    "    y_val = y[ite]\n",
    "    #lgb = lgbm.sklearn.LGBMClassifier(n_estimators=1000, seed=0, **params)\n",
    "    #lgb.fit(train, y_train.values)\n",
    "    #ypred = lgb.predict_proba(val)[:, 1]\n",
    "    model = LogisticRegression()\n",
    "    model.fit(train, y_train.values)\n",
    "    ypred = model.predict_proba(val)[:, 1]    \n",
    "    \n",
    "    \n",
    "    scores += [accuracy_score(y_val, ypred > 0.5)]\n",
    "    \n",
    "scores = np.array(scores)\n",
    "print(scores.mean(), ' +-', scores.std())"
   ]
  },
  {
   "cell_type": "code",
   "execution_count": null,
   "metadata": {},
   "outputs": [],
   "source": [
    "0.677311041866411  +- 0.020483338513536346\n",
    "\n",
    "0.6634482861936721  +- 0.01619585664485589\n"
   ]
  },
  {
   "cell_type": "code",
   "execution_count": 20,
   "metadata": {},
   "outputs": [],
   "source": [
    "pd.DataFrame(pred_train).to_csv('predictions/tfidf_char_saf.csv', index=False)"
   ]
  },
  {
   "cell_type": "code",
   "execution_count": null,
   "metadata": {},
   "outputs": [],
   "source": [
    "char\n",
    "0.7260821148929371  +- 0.013283597320227476\n",
    "\n",
    "word\n",
    "0.6690396292745285  +- 0.01584611114905873\n",
    "0.6641249201022691  +- 0.009953519575835854\n",
    "0.6583008748801534  +- 0.020450857087594386\n",
    "0.630364133908597  +- 0.007977489608898805\n",
    "0.6026306327900288  +- 0.009345713266826185\n"
   ]
  },
  {
   "cell_type": "code",
   "execution_count": 20,
   "metadata": {},
   "outputs": [
    {
     "data": {
      "text/plain": [
       "((3576,), (4795, 200))"
      ]
     },
     "execution_count": 20,
     "metadata": {},
     "output_type": "execute_result"
    }
   ],
   "source": [
    "y_train.shape, train.shape"
   ]
  },
  {
   "cell_type": "code",
   "execution_count": 5,
   "metadata": {},
   "outputs": [],
   "source": [
    "df['text'] = df['text'].apply(lambda x: str(x))\n",
    "df_val['text'] = df_val['text'].apply(lambda x: str(x))"
   ]
  },
  {
   "cell_type": "code",
   "execution_count": 6,
   "metadata": {},
   "outputs": [],
   "source": [
    "df['text'] = df['text'].apply(lambda x: x.lower().split())\n",
    "df_val['text'] = df_val['text'].apply(lambda x: x.lower().split())"
   ]
  },
  {
   "cell_type": "code",
   "execution_count": 17,
   "metadata": {},
   "outputs": [],
   "source": [
    "X1 = map(lambda x: ' '.join(x), df['text'])\n",
    "Y1 = map(lambda x: ' '.join(x), df_val['text'])\n",
    "\n",
    "hw1 = HashingVectorizer(n_features=1000).fit(df['text'] + df_val['text'])"
   ]
  },
  {
   "cell_type": "code",
   "execution_count": 18,
   "metadata": {},
   "outputs": [],
   "source": [
    "X1 = pd.DataFrame(hw1.transform(X1).todense())\n",
    "Y1 = pd.DataFrame(hw1.transform(Y1).todense())"
   ]
  },
  {
   "cell_type": "code",
   "execution_count": 19,
   "metadata": {},
   "outputs": [],
   "source": [
    "tfidf = feature_extraction.text.TfidfTransformer()\n",
    "tfidf.fit(X1+Y1)\n",
    "\n",
    "X1 = pd.DataFrame(tfidf.transform(X1).todense())\n",
    "Y1 = pd.DataFrame(tfidf.transform(Y1).todense())"
   ]
  },
  {
   "cell_type": "code",
   "execution_count": 20,
   "metadata": {},
   "outputs": [],
   "source": [
    "y_train = df['coord'].apply(lambda x: len(x) > 0)\n",
    "y_val = df_val['coord'].apply(lambda x: len(x) > 0)"
   ]
  },
  {
   "cell_type": "code",
   "execution_count": 32,
   "metadata": {},
   "outputs": [
    {
     "data": {
      "text/plain": [
       "LGBMClassifier(boosting_type='gbdt', class_weight=None, colsample_bytree=0.8,\n",
       "        learning_rate=0.1, max_depth=9, min_child_samples=20,\n",
       "        min_child_weight=0.001, min_split_gain=0.0, n_estimators=700,\n",
       "        n_jobs=-1, nthread=-1, num_leaves=31, objective='binary',\n",
       "        random_state=None, reg_alpha=0.0, reg_lambda=0.0, seed=0,\n",
       "        silent=True, subsample=1.0, subsample_for_bin=200000,\n",
       "        subsample_freq=1)"
      ]
     },
     "execution_count": 32,
     "metadata": {},
     "output_type": "execute_result"
    }
   ],
   "source": [
    "#LGBM\n",
    "params = {\n",
    "    #'task': 'train',\n",
    "    #'boosting_type': 'gbdt',\n",
    "    #'objective': 'regression',\n",
    "    #'application': 'multiclass',\n",
    "    'objective':'binary',\n",
    "    #'num_leaves': 31,\n",
    "    #'feature_fraction': 0.9,\n",
    "    #'bagging_fraction': 0.8,\n",
    "    #'bagging_freq': 5,\n",
    "    #'subsample': 0.8,\n",
    "    'colsample_bytree': 0.8,\n",
    "    #'objective': 'multiclass',\n",
    "    'nthread': -1,\n",
    "    'learning_rate': 0.1,\n",
    "    #'min_child_weight': 50,\n",
    "    'max_depth': 9\n",
    "    #'num_class': 2302,\n",
    "    #'feature_fraction':0.2,\n",
    "    #'bagging_fraction':0.5\n",
    "    \n",
    "}\n",
    "\n",
    "\n",
    "\n",
    "\n",
    "#Xdatatrain = xgb.DMatrix(data=X_train.values,\n",
    "#                             label=y_train.values)\n",
    "#Xdataval = xgb.DMatrix(data=X_val.values,\n",
    "#                             label=y_val.values)\n",
    "#plst = list(param.items())\n",
    "#watchlist = [(Xdatatrain, 'train'), (Xdataval, 'eval')]\n",
    "\n",
    "#bst = xgb.train(plst, Xdatatrain, numround, evals=watchlist, verbose_eval=1)\n",
    "\n",
    "lgb = lgbm.sklearn.LGBMClassifier(n_estimators=700, seed=0, **params)\n",
    "lgb.fit(X1, y_train.values)\n",
    "#ypred = lgb.predict_proba(X_train.ix[ite, :])[:, 1]\n"
   ]
  },
  {
   "cell_type": "code",
   "execution_count": 33,
   "metadata": {},
   "outputs": [
    {
     "data": {
      "text/plain": [
       "0.6467828418230563"
      ]
     },
     "execution_count": 33,
     "metadata": {},
     "output_type": "execute_result"
    }
   ],
   "source": [
    "y_pred = lgb.predict_proba(Y1)[:,1]\n",
    "accuracy_score(y_val, y_pred > 0.5)"
   ]
  },
  {
   "cell_type": "code",
   "execution_count": 24,
   "metadata": {},
   "outputs": [],
   "source": [
    "0.6812546228946561\n",
    "0.6794425548455621\n",
    "0.6595174262734584"
   ]
  },
  {
   "cell_type": "code",
   "execution_count": 27,
   "metadata": {},
   "outputs": [
    {
     "data": {
      "text/plain": [
       "(1492,)"
      ]
     },
     "execution_count": 27,
     "metadata": {},
     "output_type": "execute_result"
    }
   ],
   "source": [
    "y_val.shape"
   ]
  },
  {
   "cell_type": "code",
   "execution_count": 30,
   "metadata": {},
   "outputs": [
    {
     "data": {
      "text/plain": [
       "0.5"
      ]
     },
     "execution_count": 30,
     "metadata": {},
     "output_type": "execute_result"
    }
   ],
   "source": [
    "y_val.sum() / len(y_val)"
   ]
  },
  {
   "cell_type": "code",
   "execution_count": null,
   "metadata": {},
   "outputs": [],
   "source": []
  },
  {
   "cell_type": "code",
   "execution_count": null,
   "metadata": {},
   "outputs": [],
   "source": []
  },
  {
   "cell_type": "code",
   "execution_count": null,
   "metadata": {},
   "outputs": [],
   "source": []
  }
 ],
 "metadata": {
  "kernelspec": {
   "display_name": "Python 3",
   "language": "python",
   "name": "python3"
  },
  "language_info": {
   "codemirror_mode": {
    "name": "ipython",
    "version": 3
   },
   "file_extension": ".py",
   "mimetype": "text/x-python",
   "name": "python",
   "nbconvert_exporter": "python",
   "pygments_lexer": "ipython3",
   "version": "3.5.2"
  }
 },
 "nbformat": 4,
 "nbformat_minor": 2
}
