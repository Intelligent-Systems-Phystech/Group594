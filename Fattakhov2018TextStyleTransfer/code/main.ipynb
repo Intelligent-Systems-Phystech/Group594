{
 "cells": [
  {
   "cell_type": "code",
   "execution_count": 2,
   "metadata": {},
   "outputs": [
    {
     "name": "stdout",
     "output_type": "stream",
     "text": [
      "Populating the interactive namespace from numpy and matplotlib\n"
     ]
    }
   ],
   "source": [
    "import numpy as np\n",
    "import pandas as pd\n",
    "\n",
    "\n",
    "from sklearn.cross_validation import cross_val_score\n",
    "\n",
    "import lightgbm as lgbm\n",
    "\n",
    "from sklearn.preprocessing import StandardScaler\n",
    "from sklearn.model_selection import StratifiedKFold\n",
    "from sklearn.feature_extraction.text import TfidfVectorizer, CountVectorizer, HashingVectorizer\n",
    "from sklearn import pipeline, preprocessing, feature_extraction\n",
    "from sklearn.metrics import accuracy_score\n",
    "from sklearn.linear_model import SGDClassifier\n",
    "import xgboost as xgb\n",
    "from sklearn.ensemble import RandomForestClassifier\n",
    "from sklearn.ensemble import ExtraTreesClassifier\n",
    "import os\n",
    "\n",
    "%matplotlib inline\n",
    "%pylab inline"
   ]
  },
  {
   "cell_type": "code",
   "execution_count": 2,
   "metadata": {},
   "outputs": [],
   "source": [
    "d = 'data/pan18-style-change-detection-training-dataset-2018-01-31/'\n",
    "train_files = os.listdir(d)\n",
    "\n",
    "truth_files = []\n",
    "text_files = []\n",
    "for i in train_files:\n",
    "    if 'truth' in i:\n",
    "        truth_files += [i]\n",
    "    else:\n",
    "        text_files += [i]\n",
    "        \n",
    "truth_files = np.sort(truth_files)\n",
    "text_files = np.sort(text_files)\n",
    "\n",
    "\n",
    "texts = []\n",
    "truths = []\n",
    "for i, j in zip(text_files, truth_files):\n",
    "    file = open(d+i, 'r') \n",
    "    texts += [file.read()]\n",
    "    \n",
    "    file = open(d+j, 'r') \n",
    "    truths += [file.read()]\n",
    "    \n",
    "df = pd.DataFrame(texts)\n",
    "df.columns = ['text']\n",
    "df['coord'] = truths\n",
    "df['coord'] = df['coord'].apply(lambda x: x.split('[')[1].split(']')[0])\n",
    "\n",
    "\n",
    "d = 'data/pan18-style-change-detection-validation-dataset-2018-01-31/'\n",
    "train_files = os.listdir(d)\n",
    "\n",
    "truth_files = []\n",
    "text_files = []\n",
    "for i in train_files:\n",
    "    if 'truth' in i:\n",
    "        truth_files += [i]\n",
    "    else:\n",
    "        text_files += [i]\n",
    "        \n",
    "truth_files = np.sort(truth_files)\n",
    "text_files = np.sort(text_files)\n",
    "\n",
    "\n",
    "texts = []\n",
    "truths = []\n",
    "for i, j in zip(text_files, truth_files):\n",
    "    file = open(d+i, 'r') \n",
    "    texts += [file.read()]\n",
    "    \n",
    "    file = open(d+j, 'r') \n",
    "    truths += [file.read()]\n",
    "    \n",
    "df_val = pd.DataFrame(texts)\n",
    "df_val.columns = ['text']\n",
    "df_val['coord'] = truths\n",
    "df_val['coord'] = df_val['coord'].apply(lambda x: x.split('[')[1].split(']')[0])"
   ]
  },
  {
   "cell_type": "code",
   "execution_count": 7,
   "metadata": {},
   "outputs": [
    {
     "data": {
      "text/plain": [
       "1860"
      ]
     },
     "execution_count": 7,
     "metadata": {},
     "output_type": "execute_result"
    }
   ],
   "source": [
    "df['text'].apply(lambda x: len(x.split(' '))).max()"
   ]
  },
  {
   "cell_type": "code",
   "execution_count": 34,
   "metadata": {},
   "outputs": [
    {
     "name": "stdout",
     "output_type": "stream",
     "text": [
      "Sun Apr 22 16:59:19 2018       \r\n",
      "+-----------------------------------------------------------------------------+\r\n",
      "| NVIDIA-SMI 384.81                 Driver Version: 384.81                    |\r\n",
      "|-------------------------------+----------------------+----------------------+\r\n",
      "| GPU  Name        Persistence-M| Bus-Id        Disp.A | Volatile Uncorr. ECC |\r\n",
      "| Fan  Temp  Perf  Pwr:Usage/Cap|         Memory-Usage | GPU-Util  Compute M. |\r\n",
      "|===============================+======================+======================|\r\n",
      "|   0  GeForce GTX 1080    Off  | 00000000:01:00.0 Off |                  N/A |\r\n",
      "| 64%   75C    P2    89W / 180W |   7749MiB /  8113MiB |     72%      Default |\r\n",
      "+-------------------------------+----------------------+----------------------+\r\n",
      "                                                                               \r\n",
      "+-----------------------------------------------------------------------------+\r\n",
      "| Processes:                                                       GPU Memory |\r\n",
      "|  GPU       PID   Type   Process name                             Usage      |\r\n",
      "|=============================================================================|\r\n",
      "|    0     16167      C   /usr/bin/python3                            7739MiB |\r\n",
      "+-----------------------------------------------------------------------------+\r\n"
     ]
    }
   ],
   "source": [
    "!nvidia-smi"
   ]
  },
  {
   "cell_type": "code",
   "execution_count": 3,
   "metadata": {},
   "outputs": [
    {
     "data": {
      "image/png": "[encoded data removed]",
      "text/plain": [
       "<matplotlib.figure.Figure at 0x7f26994266d8>"
      ]
     },
     "metadata": {},
     "output_type": "display_data"
    }
   ],
   "source": [
    "plt.figure(figsize=(8,5))\n",
    "plt.title('Распределение длин текстов')\n",
    "plt.ylabel('Количество')\n",
    "plt.xlabel('Символов')\n",
    "plt.hist(df['text'].apply(lambda x: len(x)).values, bins=70, alpha=0.8)\n",
    "plt.hist(df_val['text'].apply(lambda x: len(x)).values, bins=70, alpha=0.8)\n",
    "\n",
    "plt.show()"
   ]
  },
  {
   "cell_type": "code",
   "execution_count": 4,
   "metadata": {},
   "outputs": [
    {
     "data": {
      "image/png": "[encoded data removed]",
      "text/plain": [
       "<matplotlib.figure.Figure at 0x7f26994263c8>"
      ]
     },
     "metadata": {},
     "output_type": "display_data"
    }
   ],
   "source": [
    "plt.figure(figsize=(8,5))\n",
    "plt.title('Распределение количества заимствованных фрагментов')\n",
    "plt.ylabel('Количество')\n",
    "plt.xlabel('Число заимствованных фрагментов')\n",
    "plt.hist(df['coord'].apply(lambda x: len(x.split(','))).values, bins=70, alpha=0.8)\n",
    "\n",
    "plt.show()"
   ]
  },
  {
   "cell_type": "code",
   "execution_count": 5,
   "metadata": {},
   "outputs": [],
   "source": [
    "df['text'] = df['text'].apply(lambda x: str(x))\n",
    "df_val['text'] = df_val['text'].apply(lambda x: str(x))"
   ]
  },
  {
   "cell_type": "code",
   "execution_count": 6,
   "metadata": {},
   "outputs": [],
   "source": [
    "df['text'] = df['text'].apply(lambda x: x.lower().split())\n",
    "df_val['text'] = df_val['text'].apply(lambda x: x.lower().split())"
   ]
  },
  {
   "cell_type": "code",
   "execution_count": 17,
   "metadata": {},
   "outputs": [],
   "source": [
    "X1 = map(lambda x: ' '.join(x), df['text'])\n",
    "Y1 = map(lambda x: ' '.join(x), df_val['text'])\n",
    "\n",
    "hw1 = HashingVectorizer(n_features=1000).fit(df['text'] + df_val['text'])"
   ]
  },
  {
   "cell_type": "code",
   "execution_count": 18,
   "metadata": {},
   "outputs": [],
   "source": [
    "X1 = pd.DataFrame(hw1.transform(X1).todense())\n",
    "Y1 = pd.DataFrame(hw1.transform(Y1).todense())"
   ]
  },
  {
   "cell_type": "code",
   "execution_count": 19,
   "metadata": {},
   "outputs": [],
   "source": [
    "tfidf = feature_extraction.text.TfidfTransformer()\n",
    "tfidf.fit(X1+Y1)\n",
    "\n",
    "X1 = pd.DataFrame(tfidf.transform(X1).todense())\n",
    "Y1 = pd.DataFrame(tfidf.transform(Y1).todense())"
   ]
  },
  {
   "cell_type": "code",
   "execution_count": 20,
   "metadata": {},
   "outputs": [],
   "source": [
    "y_train = df['coord'].apply(lambda x: len(x) > 0)\n",
    "y_val = df_val['coord'].apply(lambda x: len(x) > 0)"
   ]
  },
  {
   "cell_type": "code",
   "execution_count": 32,
   "metadata": {},
   "outputs": [
    {
     "data": {
      "text/plain": [
       "LGBMClassifier(boosting_type='gbdt', class_weight=None, colsample_bytree=0.8,\n",
       "        learning_rate=0.1, max_depth=9, min_child_samples=20,\n",
       "        min_child_weight=0.001, min_split_gain=0.0, n_estimators=700,\n",
       "        n_jobs=-1, nthread=-1, num_leaves=31, objective='binary',\n",
       "        random_state=None, reg_alpha=0.0, reg_lambda=0.0, seed=0,\n",
       "        silent=True, subsample=1.0, subsample_for_bin=200000,\n",
       "        subsample_freq=1)"
      ]
     },
     "execution_count": 32,
     "metadata": {},
     "output_type": "execute_result"
    }
   ],
   "source": [
    "#LGBM\n",
    "params = {\n",
    "    #'task': 'train',\n",
    "    #'boosting_type': 'gbdt',\n",
    "    #'objective': 'regression',\n",
    "    #'application': 'multiclass',\n",
    "    'objective':'binary',\n",
    "    #'num_leaves': 31,\n",
    "    #'feature_fraction': 0.9,\n",
    "    #'bagging_fraction': 0.8,\n",
    "    #'bagging_freq': 5,\n",
    "    #'subsample': 0.8,\n",
    "    'colsample_bytree': 0.8,\n",
    "    #'objective': 'multiclass',\n",
    "    'nthread': -1,\n",
    "    'learning_rate': 0.1,\n",
    "    #'min_child_weight': 50,\n",
    "    'max_depth': 9\n",
    "    #'num_class': 2302,\n",
    "    #'feature_fraction':0.2,\n",
    "    #'bagging_fraction':0.5\n",
    "    \n",
    "}\n",
    "\n",
    "\n",
    "\n",
    "\n",
    "#Xdatatrain = xgb.DMatrix(data=X_train.values,\n",
    "#                             label=y_train.values)\n",
    "#Xdataval = xgb.DMatrix(data=X_val.values,\n",
    "#                             label=y_val.values)\n",
    "#plst = list(param.items())\n",
    "#watchlist = [(Xdatatrain, 'train'), (Xdataval, 'eval')]\n",
    "\n",
    "#bst = xgb.train(plst, Xdatatrain, numround, evals=watchlist, verbose_eval=1)\n",
    "\n",
    "lgb = lgbm.sklearn.LGBMClassifier(n_estimators=700, seed=0, **params)\n",
    "lgb.fit(X1, y_train.values)\n",
    "#ypred = lgb.predict_proba(X_train.ix[ite, :])[:, 1]\n"
   ]
  },
  {
   "cell_type": "code",
   "execution_count": 33,
   "metadata": {},
   "outputs": [
    {
     "data": {
      "text/plain": [
       "0.6467828418230563"
      ]
     },
     "execution_count": 33,
     "metadata": {},
     "output_type": "execute_result"
    }
   ],
   "source": [
    "from sklearn.metrics import accuracy_score\n",
    "y_pred = lgb.predict_proba(Y1)[:,1]\n",
    "accuracy_score(y_val, y_pred > 0.5)"
   ]
  },
  {
   "cell_type": "code",
   "execution_count": 24,
   "metadata": {},
   "outputs": [],
   "source": [
    "0.6812546228946561\n",
    "0.6794425548455621\n",
    "0.6595174262734584"
   ]
  },
  {
   "cell_type": "code",
   "execution_count": 27,
   "metadata": {},
   "outputs": [
    {
     "data": {
      "text/plain": [
       "(1492,)"
      ]
     },
     "execution_count": 27,
     "metadata": {},
     "output_type": "execute_result"
    }
   ],
   "source": [
    "y_val.shape"
   ]
  },
  {
   "cell_type": "code",
   "execution_count": 30,
   "metadata": {},
   "outputs": [
    {
     "data": {
      "text/plain": [
       "0.5"
      ]
     },
     "execution_count": 30,
     "metadata": {},
     "output_type": "execute_result"
    }
   ],
   "source": [
    "y_val.sum() / len(y_val)"
   ]
  },
  {
   "cell_type": "code",
   "execution_count": null,
   "metadata": {},
   "outputs": [],
   "source": []
  },
  {
   "cell_type": "code",
   "execution_count": 7,
   "metadata": {},
   "outputs": [
    {
     "data": {
      "text/plain": [
       "0    0.0\n",
       "dtype: float64"
      ]
     },
     "execution_count": 7,
     "metadata": {},
     "output_type": "execute_result"
    }
   ],
   "source": [
    "pd.read_csv('predictions/tfidf_1.csv').max()"
   ]
  },
  {
   "cell_type": "code",
   "execution_count": null,
   "metadata": {},
   "outputs": [],
   "source": []
  },
  {
   "cell_type": "code",
   "execution_count": null,
   "metadata": {},
   "outputs": [],
   "source": []
  },
  {
   "cell_type": "code",
   "execution_count": null,
   "metadata": {},
   "outputs": [],
   "source": []
  },
  {
   "cell_type": "code",
   "execution_count": null,
   "metadata": {},
   "outputs": [],
   "source": []
  },
  {
   "cell_type": "code",
   "execution_count": null,
   "metadata": {},
   "outputs": [],
   "source": []
  },
  {
   "cell_type": "code",
   "execution_count": null,
   "metadata": {},
   "outputs": [],
   "source": []
  },
  {
   "cell_type": "code",
   "execution_count": null,
   "metadata": {},
   "outputs": [],
   "source": []
  }
 ],
 "metadata": {
  "kernelspec": {
   "display_name": "Python 3",
   "language": "python",
   "name": "python3"
  },
  "language_info": {
   "codemirror_mode": {
    "name": "ipython",
    "version": 3
   },
   "file_extension": ".py",
   "mimetype": "text/x-python",
   "name": "python",
   "nbconvert_exporter": "python",
   "pygments_lexer": "ipython3",
   "version": "3.5.2"
  }
 },
 "nbformat": 4,
 "nbformat_minor": 2
}
